{
 "cells": [
  {
   "cell_type": "markdown",
   "id": "e29d172a",
   "metadata": {},
   "source": [
    "# Math"
   ]
  },
  {
   "cell_type": "code",
   "execution_count": 1,
   "id": "f0483bfe",
   "metadata": {},
   "outputs": [],
   "source": [
    "import math"
   ]
  },
  {
   "cell_type": "code",
   "execution_count": 2,
   "id": "62a71339",
   "metadata": {},
   "outputs": [],
   "source": [
    "x = pow(2,0.5)     #power find"
   ]
  },
  {
   "cell_type": "code",
   "execution_count": 3,
   "id": "712a7996",
   "metadata": {},
   "outputs": [
    {
     "data": {
      "text/plain": [
       "1.4142135623730951"
      ]
     },
     "execution_count": 3,
     "metadata": {},
     "output_type": "execute_result"
    }
   ],
   "source": [
    "x"
   ]
  },
  {
   "cell_type": "code",
   "execution_count": 4,
   "id": "7c985abe",
   "metadata": {},
   "outputs": [],
   "source": [
    "x = math.sqrt(36)  #find the square of 6"
   ]
  },
  {
   "cell_type": "code",
   "execution_count": 5,
   "id": "029fad62",
   "metadata": {},
   "outputs": [
    {
     "data": {
      "text/plain": [
       "6.0"
      ]
     },
     "execution_count": 5,
     "metadata": {},
     "output_type": "execute_result"
    }
   ],
   "source": [
    "x"
   ]
  },
  {
   "cell_type": "code",
   "execution_count": 6,
   "id": "eafb932f",
   "metadata": {},
   "outputs": [],
   "source": [
    "y=math.degrees(2)"
   ]
  },
  {
   "cell_type": "code",
   "execution_count": 7,
   "id": "b1e8c82a",
   "metadata": {},
   "outputs": [
    {
     "data": {
      "text/plain": [
       "114.59155902616465"
      ]
     },
     "execution_count": 7,
     "metadata": {},
     "output_type": "execute_result"
    }
   ],
   "source": [
    "y"
   ]
  },
  {
   "cell_type": "code",
   "execution_count": 8,
   "id": "f396a7f2",
   "metadata": {},
   "outputs": [],
   "source": [
    "z=math.gamma(5) #find gama functhon 4!(4*3*2*1)"
   ]
  },
  {
   "cell_type": "code",
   "execution_count": 9,
   "id": "3d3ca8f0",
   "metadata": {},
   "outputs": [
    {
     "data": {
      "text/plain": [
       "24.0"
      ]
     },
     "execution_count": 9,
     "metadata": {},
     "output_type": "execute_result"
    }
   ],
   "source": [
    "z"
   ]
  },
  {
   "cell_type": "code",
   "execution_count": 10,
   "id": "cb4f8d8b",
   "metadata": {},
   "outputs": [],
   "source": [
    "w = math.floor(1.3)\n",
    "b = math.ceil(1.3)"
   ]
  },
  {
   "cell_type": "code",
   "execution_count": 11,
   "id": "2c44c0b3",
   "metadata": {},
   "outputs": [
    {
     "data": {
      "text/plain": [
       "1"
      ]
     },
     "execution_count": 11,
     "metadata": {},
     "output_type": "execute_result"
    }
   ],
   "source": [
    "w"
   ]
  },
  {
   "cell_type": "code",
   "execution_count": 12,
   "id": "6147de07",
   "metadata": {},
   "outputs": [
    {
     "data": {
      "text/plain": [
       "2"
      ]
     },
     "execution_count": 12,
     "metadata": {},
     "output_type": "execute_result"
    }
   ],
   "source": [
    "b"
   ]
  },
  {
   "cell_type": "code",
   "execution_count": 18,
   "id": "9d4009bb",
   "metadata": {},
   "outputs": [],
   "source": [
    "c = math.pi"
   ]
  },
  {
   "cell_type": "code",
   "execution_count": 19,
   "id": "47fbf8c8",
   "metadata": {},
   "outputs": [
    {
     "data": {
      "text/plain": [
       "3.141592653589793"
      ]
     },
     "execution_count": 19,
     "metadata": {},
     "output_type": "execute_result"
    }
   ],
   "source": [
    "c"
   ]
  },
  {
   "cell_type": "code",
   "execution_count": 21,
   "id": "ea5df767",
   "metadata": {},
   "outputs": [],
   "source": [
    "d = math.factorial(100)"
   ]
  },
  {
   "cell_type": "code",
   "execution_count": 22,
   "id": "f5a9761b",
   "metadata": {},
   "outputs": [
    {
     "data": {
      "text/plain": [
       "93326215443944152681699238856266700490715968264381621468592963895217599993229915608941463976156518286253697920827223758251185210916864000000000000000000000000"
      ]
     },
     "execution_count": 22,
     "metadata": {},
     "output_type": "execute_result"
    }
   ],
   "source": [
    "d"
   ]
  },
  {
   "cell_type": "code",
   "execution_count": 23,
   "id": "3667751b",
   "metadata": {},
   "outputs": [],
   "source": [
    "def fact(n):\n",
    "    res=1                     #functuin basic program\n",
    "    for i in range(1,n+1):\n",
    "        res=res*i\n",
    "    return res"
   ]
  },
  {
   "cell_type": "code",
   "execution_count": 25,
   "id": "241cfa21",
   "metadata": {},
   "outputs": [
    {
     "data": {
      "text/plain": [
       "93326215443944152681699238856266700490715968264381621468592963895217599993229915608941463976156518286253697920827223758251185210916864000000000000000000000000"
      ]
     },
     "execution_count": 25,
     "metadata": {},
     "output_type": "execute_result"
    }
   ],
   "source": [
    "fact(100)"
   ]
  },
  {
   "cell_type": "code",
   "execution_count": 26,
   "id": "c3dd84c2",
   "metadata": {},
   "outputs": [],
   "source": [
    "e=math.cos(30)"
   ]
  },
  {
   "cell_type": "code",
   "execution_count": 27,
   "id": "b03733b2",
   "metadata": {},
   "outputs": [
    {
     "data": {
      "text/plain": [
       "0.15425144988758405"
      ]
     },
     "execution_count": 27,
     "metadata": {},
     "output_type": "execute_result"
    }
   ],
   "source": [
    "e"
   ]
  },
  {
   "cell_type": "code",
   "execution_count": 39,
   "id": "837f571d",
   "metadata": {},
   "outputs": [],
   "source": [
    "f = math.comb(10,3)"
   ]
  },
  {
   "cell_type": "code",
   "execution_count": 40,
   "id": "4c0cb012",
   "metadata": {},
   "outputs": [
    {
     "data": {
      "text/plain": [
       "120"
      ]
     },
     "execution_count": 40,
     "metadata": {},
     "output_type": "execute_result"
    }
   ],
   "source": [
    "f"
   ]
  },
  {
   "cell_type": "code",
   "execution_count": 45,
   "id": "630e28e9",
   "metadata": {},
   "outputs": [],
   "source": [
    "g = math.log10(30)"
   ]
  },
  {
   "cell_type": "code",
   "execution_count": 46,
   "id": "44651ea2",
   "metadata": {},
   "outputs": [
    {
     "data": {
      "text/plain": [
       "1.4771212547196624"
      ]
     },
     "execution_count": 46,
     "metadata": {},
     "output_type": "execute_result"
    }
   ],
   "source": [
    "g"
   ]
  },
  {
   "cell_type": "code",
   "execution_count": 47,
   "id": "3bfd42ac",
   "metadata": {},
   "outputs": [],
   "source": [
    "h =math.cbrt(27)"
   ]
  },
  {
   "cell_type": "code",
   "execution_count": 48,
   "id": "1c1b44a0",
   "metadata": {},
   "outputs": [
    {
     "data": {
      "text/plain": [
       "3.0"
      ]
     },
     "execution_count": 48,
     "metadata": {},
     "output_type": "execute_result"
    }
   ],
   "source": [
    "h"
   ]
  },
  {
   "cell_type": "code",
   "execution_count": 50,
   "id": "6de259f6",
   "metadata": {},
   "outputs": [
    {
     "data": {
      "text/plain": [
       "402387260077093773543702433923003985719374864210714632543799910429938512398629020592044208486969404800479988610197196058631666872994808558901323829669944590997424504087073759918823627727188732519779505950995276120874975462497043601418278094646496291056393887437886487337119181045825783647849977012476632889835955735432513185323958463075557409114262417474349347553428646576611667797396668820291207379143853719588249808126867838374559731746136085379534524221586593201928090878297308431392844403281231558611036976801357304216168747609675871348312025478589320767169132448426236131412508780208000261683151027341827977704784635868170164365024153691398281264810213092761244896359928705114964975419909342221566832572080821333186116811553615836546984046708975602900950537616475847728421889679646244945160765353408198901385442487984959953319101723355556602139450399736280750137837615307127761926849034352625200015888535147331611702103968175921510907788019393178114194545257223865541461062892187960223838971476088506276862967146674697562911234082439208160153780889893964518263243671616762179168909779911903754031274622289988005195444414282012187361745992642956581746628302955570299024324153181617210465832036786906117260158783520751516284225540265170483304226143974286933061690897968482590125458327168226458066526769958652682272807075781391858178889652208164348344825993266043367660176999612831860788386150279465955131156552036093988180612138558600301435694527224206344631797460594682573103790084024432438465657245014402821885252470935190620929023136493273497565513958720559654228749774011413346962715422845862377387538230483865688976461927383814900140767310446640259899490222221765904339901886018566526485061799702356193897017860040811889729918311021171229845901641921068884387121855646124960798722908519296819372388642614839657382291123125024186649353143970137428531926649875337218940694281434118520158014123344828015051399694290153483077644569099073152433278288269864602789864321139083506217095002597389863554277196742822248757586765752344220207573630569498825087968928162753848863396909959826280956121450994871701244516461260379029309120889086942028510640182154399457156805941872748998094254742173582401063677404595741785160829230135358081840096996372524230560855903700624271243416909004153690105933983835777939410970027753472000000000000000000000000000000000000000000000000000000000000000000000000000000000000000000000000000000000000000000000000000000000000000000000000000000000000000000000000000000000000000000000000000000000000000000000000000000000000000000000000000000000"
      ]
     },
     "execution_count": 50,
     "metadata": {},
     "output_type": "execute_result"
    }
   ],
   "source": [
    "fact(1000)"
   ]
  },
  {
   "cell_type": "markdown",
   "id": "9d29c867",
   "metadata": {},
   "source": [
    "# DateTime"
   ]
  },
  {
   "cell_type": "code",
   "execution_count": 51,
   "id": "e170866d",
   "metadata": {},
   "outputs": [],
   "source": [
    "import datetime as dt"
   ]
  },
  {
   "cell_type": "code",
   "execution_count": 54,
   "id": "00440f7c",
   "metadata": {},
   "outputs": [],
   "source": [
    "x=dt.datetime.now()"
   ]
  },
  {
   "cell_type": "code",
   "execution_count": 55,
   "id": "ff03b552",
   "metadata": {},
   "outputs": [
    {
     "data": {
      "text/plain": [
       "datetime.datetime(2023, 1, 31, 13, 1, 18, 221161)"
      ]
     },
     "execution_count": 55,
     "metadata": {},
     "output_type": "execute_result"
    }
   ],
   "source": [
    "x"
   ]
  },
  {
   "cell_type": "code",
   "execution_count": 56,
   "id": "46b2fd2c",
   "metadata": {},
   "outputs": [
    {
     "data": {
      "text/plain": [
       "2023"
      ]
     },
     "execution_count": 56,
     "metadata": {},
     "output_type": "execute_result"
    }
   ],
   "source": [
    "x.year"
   ]
  },
  {
   "cell_type": "code",
   "execution_count": 57,
   "id": "c4c0b3f1",
   "metadata": {},
   "outputs": [
    {
     "data": {
      "text/plain": [
       "31"
      ]
     },
     "execution_count": 57,
     "metadata": {},
     "output_type": "execute_result"
    }
   ],
   "source": [
    "x.day"
   ]
  },
  {
   "cell_type": "code",
   "execution_count": 58,
   "id": "affea166",
   "metadata": {},
   "outputs": [
    {
     "data": {
      "text/plain": [
       "1"
      ]
     },
     "execution_count": 58,
     "metadata": {},
     "output_type": "execute_result"
    }
   ],
   "source": [
    "x.minute"
   ]
  },
  {
   "cell_type": "code",
   "execution_count": 60,
   "id": "478d4437",
   "metadata": {},
   "outputs": [
    {
     "data": {
      "text/plain": [
       "datetime.datetime(2023, 1, 31, 13, 4, 20, 126170)"
      ]
     },
     "execution_count": 60,
     "metadata": {},
     "output_type": "execute_result"
    }
   ],
   "source": [
    "x.today()"
   ]
  },
  {
   "cell_type": "code",
   "execution_count": 61,
   "id": "05e540da",
   "metadata": {},
   "outputs": [
    {
     "name": "stdout",
     "output_type": "stream",
     "text": [
      "2023-01-31 13:05:54.426107\n"
     ]
    }
   ],
   "source": [
    "print(x.today())"
   ]
  },
  {
   "cell_type": "code",
   "execution_count": 65,
   "id": "f2cb883c",
   "metadata": {},
   "outputs": [],
   "source": [
    "#     A,a weekday    ,w -weekday as name,\n",
    "#  d- Day of month(0,3)\n",
    "#  m-month(0,12)\n",
    "#  Y,y-year\n",
    "#  H-hour(24hour)\n",
    "#  I-hour(12 hour)\n",
    "#  p-AM/PM\n",
    "#  M-Minute\n",
    "#  S-second\n",
    "#  f-Microsecond\n",
    "#  z-UTC offset\n",
    "#  Z-Timezone\n",
    "#  j-Day number(0-365)\n",
    "#  W-week number\n",
    "#  c-local version of date and time\n",
    "#  C-contry\n",
    "#  x-local version of date\n",
    "#  X-local version of time\n"
   ]
  },
  {
   "cell_type": "code",
   "execution_count": 64,
   "id": "e2482ce8",
   "metadata": {},
   "outputs": [
    {
     "name": "stdout",
     "output_type": "stream",
     "text": [
      "January\n"
     ]
    }
   ],
   "source": [
    "print(x.strftime(\"%B\"))"
   ]
  },
  {
   "cell_type": "code",
   "execution_count": 66,
   "id": "a31e19f4",
   "metadata": {},
   "outputs": [
    {
     "name": "stdout",
     "output_type": "stream",
     "text": [
      "Jan\n"
     ]
    }
   ],
   "source": [
    "print(x.strftime(\"%b\"))"
   ]
  },
  {
   "cell_type": "code",
   "execution_count": 67,
   "id": "721eebfe",
   "metadata": {},
   "outputs": [
    {
     "name": "stdout",
     "output_type": "stream",
     "text": [
      "Tuesday\n"
     ]
    }
   ],
   "source": [
    "print(x.strftime(\"%A\"))"
   ]
  },
  {
   "cell_type": "code",
   "execution_count": 68,
   "id": "0b2b7ec2",
   "metadata": {},
   "outputs": [
    {
     "name": "stdout",
     "output_type": "stream",
     "text": [
      "31\n"
     ]
    }
   ],
   "source": [
    "print(x.strftime(\"%d\"))"
   ]
  },
  {
   "cell_type": "code",
   "execution_count": 69,
   "id": "1617344a",
   "metadata": {},
   "outputs": [
    {
     "name": "stdout",
     "output_type": "stream",
     "text": [
      "01/31/23\n"
     ]
    }
   ],
   "source": [
    "print(x.strftime(\"%D\"))"
   ]
  },
  {
   "cell_type": "code",
   "execution_count": 70,
   "id": "60b6620c",
   "metadata": {},
   "outputs": [
    {
     "name": "stdout",
     "output_type": "stream",
     "text": [
      "13\n"
     ]
    }
   ],
   "source": [
    "print(x.strftime(\"%H\"))"
   ]
  },
  {
   "cell_type": "code",
   "execution_count": null,
   "id": "7de7b81b",
   "metadata": {},
   "outputs": [],
   "source": []
  }
 ],
 "metadata": {
  "kernelspec": {
   "display_name": "Python 3 (ipykernel)",
   "language": "python",
   "name": "python3"
  },
  "language_info": {
   "codemirror_mode": {
    "name": "ipython",
    "version": 3
   },
   "file_extension": ".py",
   "mimetype": "text/x-python",
   "name": "python",
   "nbconvert_exporter": "python",
   "pygments_lexer": "ipython3",
   "version": "3.11.1"
  }
 },
 "nbformat": 4,
 "nbformat_minor": 5
}
