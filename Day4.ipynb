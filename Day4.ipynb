{
 "cells": [
  {
   "cell_type": "markdown",
   "id": "ab04a4f9",
   "metadata": {},
   "source": [
    "# List"
   ]
  },
  {
   "cell_type": "code",
   "execution_count": 1,
   "id": "b8408e0c",
   "metadata": {},
   "outputs": [],
   "source": [
    "lst=[1,'hi',5 ,2.2466,'sunita','gautam'] #list creating"
   ]
  },
  {
   "cell_type": "code",
   "execution_count": 2,
   "id": "712b7c80",
   "metadata": {},
   "outputs": [
    {
     "data": {
      "text/plain": [
       "list"
      ]
     },
     "execution_count": 2,
     "metadata": {},
     "output_type": "execute_result"
    }
   ],
   "source": [
    "type(lst)"
   ]
  },
  {
   "cell_type": "code",
   "execution_count": 3,
   "id": "72f414f0",
   "metadata": {},
   "outputs": [
    {
     "data": {
      "text/plain": [
       "6"
      ]
     },
     "execution_count": 3,
     "metadata": {},
     "output_type": "execute_result"
    }
   ],
   "source": [
    "len(lst)"
   ]
  },
  {
   "cell_type": "code",
   "execution_count": 4,
   "id": "8fb3e864",
   "metadata": {},
   "outputs": [
    {
     "data": {
      "text/plain": [
       "5"
      ]
     },
     "execution_count": 4,
     "metadata": {},
     "output_type": "execute_result"
    }
   ],
   "source": [
    "lst[2]"
   ]
  },
  {
   "cell_type": "code",
   "execution_count": 66,
   "id": "311ffae4",
   "metadata": {},
   "outputs": [
    {
     "data": {
      "text/plain": [
       "int"
      ]
     },
     "execution_count": 66,
     "metadata": {},
     "output_type": "execute_result"
    }
   ],
   "source": [
    "type(lst[2])"
   ]
  },
  {
   "cell_type": "code",
   "execution_count": 6,
   "id": "0f965091",
   "metadata": {},
   "outputs": [
    {
     "data": {
      "text/plain": [
       "'sunita gautam'"
      ]
     },
     "execution_count": 6,
     "metadata": {},
     "output_type": "execute_result"
    }
   ],
   "source": [
    "lst[4]+' '+lst[5]"
   ]
  },
  {
   "cell_type": "code",
   "execution_count": 7,
   "id": "06ec6711",
   "metadata": {},
   "outputs": [
    {
     "data": {
      "text/plain": [
       "6"
      ]
     },
     "execution_count": 7,
     "metadata": {},
     "output_type": "execute_result"
    }
   ],
   "source": [
    "len(lst)"
   ]
  },
  {
   "cell_type": "code",
   "execution_count": 8,
   "id": "6b08b048",
   "metadata": {},
   "outputs": [
    {
     "data": {
      "text/plain": [
       "[5, 2.2466, 'sunita', 'gautam']"
      ]
     },
     "execution_count": 8,
     "metadata": {},
     "output_type": "execute_result"
    }
   ],
   "source": [
    "lst[2:6]"
   ]
  },
  {
   "cell_type": "code",
   "execution_count": 9,
   "id": "0d3861fc",
   "metadata": {},
   "outputs": [],
   "source": [
    "lst1=[]"
   ]
  },
  {
   "cell_type": "code",
   "execution_count": 10,
   "id": "31e5b8e4",
   "metadata": {},
   "outputs": [],
   "source": [
    "lst1.append('hex') #adding hex to list"
   ]
  },
  {
   "cell_type": "code",
   "execution_count": 11,
   "id": "2d2646b4",
   "metadata": {},
   "outputs": [
    {
     "data": {
      "text/plain": [
       "['hex']"
      ]
     },
     "execution_count": 11,
     "metadata": {},
     "output_type": "execute_result"
    }
   ],
   "source": [
    "lst1\n"
   ]
  },
  {
   "cell_type": "code",
   "execution_count": 12,
   "id": "29d7549a",
   "metadata": {},
   "outputs": [],
   "source": [
    "lst1.append('python')"
   ]
  },
  {
   "cell_type": "code",
   "execution_count": 13,
   "id": "8b3f82dd",
   "metadata": {},
   "outputs": [
    {
     "data": {
      "text/plain": [
       "['hex', 'python']"
      ]
     },
     "execution_count": 13,
     "metadata": {},
     "output_type": "execute_result"
    }
   ],
   "source": [
    "lst1"
   ]
  },
  {
   "cell_type": "code",
   "execution_count": 14,
   "id": "d72d7895",
   "metadata": {},
   "outputs": [],
   "source": [
    "lst.append('2002')"
   ]
  },
  {
   "cell_type": "code",
   "execution_count": 15,
   "id": "d3708f0b",
   "metadata": {},
   "outputs": [
    {
     "data": {
      "text/plain": [
       "['hex', 'python']"
      ]
     },
     "execution_count": 15,
     "metadata": {},
     "output_type": "execute_result"
    }
   ],
   "source": [
    "lst1"
   ]
  },
  {
   "cell_type": "code",
   "execution_count": 16,
   "id": "614bb504",
   "metadata": {},
   "outputs": [],
   "source": [
    "lst1.insert(1,'code') #increasing code in list at position 2"
   ]
  },
  {
   "cell_type": "code",
   "execution_count": 17,
   "id": "ce53102e",
   "metadata": {},
   "outputs": [
    {
     "data": {
      "text/plain": [
       "['hex', 'code', 'python']"
      ]
     },
     "execution_count": 17,
     "metadata": {},
     "output_type": "execute_result"
    }
   ],
   "source": [
    "lst1"
   ]
  },
  {
   "cell_type": "code",
   "execution_count": 18,
   "id": "a9368b8c",
   "metadata": {},
   "outputs": [],
   "source": [
    "lst1[1]='Academy' #Exchange code with Academy"
   ]
  },
  {
   "cell_type": "code",
   "execution_count": 19,
   "id": "253afaf5",
   "metadata": {},
   "outputs": [
    {
     "data": {
      "text/plain": [
       "['hex', 'Academy', 'python']"
      ]
     },
     "execution_count": 19,
     "metadata": {},
     "output_type": "execute_result"
    }
   ],
   "source": [
    "lst1"
   ]
  },
  {
   "cell_type": "code",
   "execution_count": 21,
   "id": "565515c2",
   "metadata": {},
   "outputs": [],
   "source": [
    "lst1[1:4]=['code','USA','2002']"
   ]
  },
  {
   "cell_type": "code",
   "execution_count": 23,
   "id": "674695f7",
   "metadata": {},
   "outputs": [
    {
     "data": {
      "text/plain": [
       "['hex', 'code', 'USA', '2002']"
      ]
     },
     "execution_count": 23,
     "metadata": {},
     "output_type": "execute_result"
    }
   ],
   "source": [
    "lst1"
   ]
  },
  {
   "cell_type": "code",
   "execution_count": 24,
   "id": "ee155618",
   "metadata": {},
   "outputs": [],
   "source": [
    "lst1.remove('code') #remove code"
   ]
  },
  {
   "cell_type": "code",
   "execution_count": 25,
   "id": "838e85a7",
   "metadata": {},
   "outputs": [
    {
     "data": {
      "text/plain": [
       "['hex', 'USA', '2002']"
      ]
     },
     "execution_count": 25,
     "metadata": {},
     "output_type": "execute_result"
    }
   ],
   "source": [
    "lst1"
   ]
  },
  {
   "cell_type": "code",
   "execution_count": 26,
   "id": "44e48d74",
   "metadata": {},
   "outputs": [],
   "source": [
    "lst1.clear()"
   ]
  },
  {
   "cell_type": "code",
   "execution_count": 28,
   "id": "fc333eed",
   "metadata": {},
   "outputs": [
    {
     "data": {
      "text/plain": [
       "[]"
      ]
     },
     "execution_count": 28,
     "metadata": {},
     "output_type": "execute_result"
    }
   ],
   "source": [
    "lst1"
   ]
  },
  {
   "cell_type": "code",
   "execution_count": 29,
   "id": "6f0e14f9",
   "metadata": {},
   "outputs": [
    {
     "data": {
      "text/plain": [
       "[1, 'hi', 5, 2.2466, 'sunita', 'gautam', '2002']"
      ]
     },
     "execution_count": 29,
     "metadata": {},
     "output_type": "execute_result"
    }
   ],
   "source": [
    "lst"
   ]
  },
  {
   "cell_type": "code",
   "execution_count": 30,
   "id": "62a9d2af",
   "metadata": {},
   "outputs": [
    {
     "data": {
      "text/plain": [
       "'2002'"
      ]
     },
     "execution_count": 30,
     "metadata": {},
     "output_type": "execute_result"
    }
   ],
   "source": [
    "lst.pop()"
   ]
  },
  {
   "cell_type": "code",
   "execution_count": 32,
   "id": "a47a8240",
   "metadata": {},
   "outputs": [
    {
     "data": {
      "text/plain": [
       "'gautam'"
      ]
     },
     "execution_count": 32,
     "metadata": {},
     "output_type": "execute_result"
    }
   ],
   "source": [
    "lst.pop()"
   ]
  },
  {
   "cell_type": "code",
   "execution_count": 33,
   "id": "68e48c90",
   "metadata": {},
   "outputs": [
    {
     "data": {
      "text/plain": [
       "[1, 'hi', 5, 2.2466, 'sunita']"
      ]
     },
     "execution_count": 33,
     "metadata": {},
     "output_type": "execute_result"
    }
   ],
   "source": [
    "lst"
   ]
  },
  {
   "cell_type": "code",
   "execution_count": 34,
   "id": "e1cf7de1",
   "metadata": {},
   "outputs": [
    {
     "data": {
      "text/plain": [
       "True"
      ]
     },
     "execution_count": 34,
     "metadata": {},
     "output_type": "execute_result"
    }
   ],
   "source": [
    "1 in lst"
   ]
  },
  {
   "cell_type": "code",
   "execution_count": 35,
   "id": "69172def",
   "metadata": {},
   "outputs": [
    {
     "data": {
      "text/plain": [
       "False"
      ]
     },
     "execution_count": 35,
     "metadata": {},
     "output_type": "execute_result"
    }
   ],
   "source": [
    "2 in lst"
   ]
  },
  {
   "cell_type": "code",
   "execution_count": 36,
   "id": "4746ab08",
   "metadata": {},
   "outputs": [
    {
     "data": {
      "text/plain": [
       "True"
      ]
     },
     "execution_count": 36,
     "metadata": {},
     "output_type": "execute_result"
    }
   ],
   "source": [
    "2 not in lst"
   ]
  },
  {
   "cell_type": "code",
   "execution_count": 37,
   "id": "f48a7016",
   "metadata": {},
   "outputs": [
    {
     "data": {
      "text/plain": [
       "True"
      ]
     },
     "execution_count": 37,
     "metadata": {},
     "output_type": "execute_result"
    }
   ],
   "source": [
    "'hi'in lst"
   ]
  },
  {
   "cell_type": "markdown",
   "id": "5f6fbca5",
   "metadata": {},
   "source": [
    "# Dictionary"
   ]
  },
  {
   "cell_type": "code",
   "execution_count": 45,
   "id": "b4f797ef",
   "metadata": {},
   "outputs": [],
   "source": [
    "info={'Name':'Sunita Gautam',\n",
    "     'Roll':1,\n",
    "     'College':'Medhavi',\n",
    "      'Semester':2,\n",
    "      'program':'BCIS'}"
   ]
  },
  {
   "cell_type": "code",
   "execution_count": 46,
   "id": "1044ddba",
   "metadata": {},
   "outputs": [
    {
     "data": {
      "text/plain": [
       "{'Name': 'Sunita Gautam',\n",
       " 'Roll': 1,\n",
       " 'College': 'Medhavi',\n",
       " 'Semester': 2,\n",
       " 'program': 'BCIS'}"
      ]
     },
     "execution_count": 46,
     "metadata": {},
     "output_type": "execute_result"
    }
   ],
   "source": [
    "info"
   ]
  },
  {
   "cell_type": "code",
   "execution_count": 47,
   "id": "d9187479",
   "metadata": {},
   "outputs": [
    {
     "data": {
      "text/plain": [
       "dict_keys(['Name', 'Roll', 'College', 'Semester', 'program'])"
      ]
     },
     "execution_count": 47,
     "metadata": {},
     "output_type": "execute_result"
    }
   ],
   "source": [
    "info.keys()"
   ]
  },
  {
   "cell_type": "code",
   "execution_count": 49,
   "id": "eed7cfaf",
   "metadata": {},
   "outputs": [
    {
     "data": {
      "text/plain": [
       "'Medhavi'"
      ]
     },
     "execution_count": 49,
     "metadata": {},
     "output_type": "execute_result"
    }
   ],
   "source": [
    "info['College']"
   ]
  },
  {
   "cell_type": "code",
   "execution_count": 50,
   "id": "343ca7bc",
   "metadata": {},
   "outputs": [],
   "source": [
    "info['College']='Apex' #changing college name"
   ]
  },
  {
   "cell_type": "code",
   "execution_count": 51,
   "id": "4ce188ea",
   "metadata": {},
   "outputs": [
    {
     "data": {
      "text/plain": [
       "{'Name': 'Sunita Gautam',\n",
       " 'Roll': 1,\n",
       " 'College': 'Apex',\n",
       " 'Semester': 2,\n",
       " 'program': 'BCIS'}"
      ]
     },
     "execution_count": 51,
     "metadata": {},
     "output_type": "execute_result"
    }
   ],
   "source": [
    "info"
   ]
  },
  {
   "cell_type": "code",
   "execution_count": 52,
   "id": "1a7784fc",
   "metadata": {},
   "outputs": [
    {
     "data": {
      "text/plain": [
       "dict_values(['Sunita Gautam', 1, 'Apex', 2, 'BCIS'])"
      ]
     },
     "execution_count": 52,
     "metadata": {},
     "output_type": "execute_result"
    }
   ],
   "source": [
    "info.values() #change value"
   ]
  },
  {
   "cell_type": "code",
   "execution_count": 53,
   "id": "9dfc7a53",
   "metadata": {},
   "outputs": [],
   "source": [
    "info['Remarks']='Topper' #adding remarks indictionary"
   ]
  },
  {
   "cell_type": "code",
   "execution_count": 54,
   "id": "af67b79f",
   "metadata": {},
   "outputs": [
    {
     "data": {
      "text/plain": [
       "{'Name': 'Sunita Gautam',\n",
       " 'Roll': 1,\n",
       " 'College': 'Apex',\n",
       " 'Semester': 2,\n",
       " 'program': 'BCIS',\n",
       " 'Remarks': 'Topper'}"
      ]
     },
     "execution_count": 54,
     "metadata": {},
     "output_type": "execute_result"
    }
   ],
   "source": [
    "info"
   ]
  },
  {
   "cell_type": "code",
   "execution_count": 55,
   "id": "7ff12e07",
   "metadata": {},
   "outputs": [
    {
     "data": {
      "text/plain": [
       "'Topper'"
      ]
     },
     "execution_count": 55,
     "metadata": {},
     "output_type": "execute_result"
    }
   ],
   "source": [
    "info.pop('Remarks')"
   ]
  },
  {
   "cell_type": "code",
   "execution_count": 56,
   "id": "4691fdbf",
   "metadata": {},
   "outputs": [
    {
     "data": {
      "text/plain": [
       "{'Name': 'Sunita Gautam',\n",
       " 'Roll': 1,\n",
       " 'College': 'Apex',\n",
       " 'Semester': 2,\n",
       " 'program': 'BCIS'}"
      ]
     },
     "execution_count": 56,
     "metadata": {},
     "output_type": "execute_result"
    }
   ],
   "source": [
    "info"
   ]
  },
  {
   "cell_type": "code",
   "execution_count": 57,
   "id": "2f606ace",
   "metadata": {},
   "outputs": [],
   "source": [
    "info.setdefault('Remarks')"
   ]
  },
  {
   "cell_type": "code",
   "execution_count": 58,
   "id": "a05949b9",
   "metadata": {},
   "outputs": [
    {
     "data": {
      "text/plain": [
       "{'Name': 'Sunita Gautam',\n",
       " 'Roll': 1,\n",
       " 'College': 'Apex',\n",
       " 'Semester': 2,\n",
       " 'program': 'BCIS',\n",
       " 'Remarks': None}"
      ]
     },
     "execution_count": 58,
     "metadata": {},
     "output_type": "execute_result"
    }
   ],
   "source": [
    "info"
   ]
  },
  {
   "cell_type": "code",
   "execution_count": 63,
   "id": "41896a78",
   "metadata": {},
   "outputs": [],
   "source": [
    "info.update({'Reg.No':'2022-23456'})"
   ]
  },
  {
   "cell_type": "code",
   "execution_count": 64,
   "id": "8fc01deb",
   "metadata": {},
   "outputs": [
    {
     "data": {
      "text/plain": [
       "{'Name': 'Sunita Gautam',\n",
       " 'Roll': 1,\n",
       " 'College': 'Apex',\n",
       " 'Semester': 2,\n",
       " 'program': 'BCIS',\n",
       " 'Remarks': None,\n",
       " 'Reg.No': '2022-23456'}"
      ]
     },
     "execution_count": 64,
     "metadata": {},
     "output_type": "execute_result"
    }
   ],
   "source": [
    "info"
   ]
  },
  {
   "cell_type": "code",
   "execution_count": 65,
   "id": "c33f6a8f",
   "metadata": {},
   "outputs": [
    {
     "data": {
      "text/plain": [
       "'2022-23456'"
      ]
     },
     "execution_count": 65,
     "metadata": {},
     "output_type": "execute_result"
    }
   ],
   "source": [
    "info.get('Reg.No')#shpwing r"
   ]
  },
  {
   "cell_type": "markdown",
   "id": "3e356d12",
   "metadata": {},
   "source": [
    "# Tuples"
   ]
  },
  {
   "cell_type": "code",
   "execution_count": 67,
   "id": "a26dd45e",
   "metadata": {},
   "outputs": [],
   "source": [
    "x=(1,2,3,4,'hi')"
   ]
  },
  {
   "cell_type": "code",
   "execution_count": 68,
   "id": "a990b00f",
   "metadata": {},
   "outputs": [
    {
     "data": {
      "text/plain": [
       "1"
      ]
     },
     "execution_count": 68,
     "metadata": {},
     "output_type": "execute_result"
    }
   ],
   "source": [
    "x.count(1)#seeing how many times 1 is being reqeated"
   ]
  },
  {
   "cell_type": "code",
   "execution_count": 69,
   "id": "d78ba6d5",
   "metadata": {},
   "outputs": [
    {
     "data": {
      "text/plain": [
       "1"
      ]
     },
     "execution_count": 69,
     "metadata": {},
     "output_type": "execute_result"
    }
   ],
   "source": [
    "x[0]  # seeing what element is i 0 index"
   ]
  },
  {
   "cell_type": "code",
   "execution_count": null,
   "id": "908e8aac",
   "metadata": {},
   "outputs": [],
   "source": []
  }
 ],
 "metadata": {
  "kernelspec": {
   "display_name": "Python 3 (ipykernel)",
   "language": "python",
   "name": "python3"
  },
  "language_info": {
   "codemirror_mode": {
    "name": "ipython",
    "version": 3
   },
   "file_extension": ".py",
   "mimetype": "text/x-python",
   "name": "python",
   "nbconvert_exporter": "python",
   "pygments_lexer": "ipython3",
   "version": "3.11.1"
  }
 },
 "nbformat": 4,
 "nbformat_minor": 5
}
