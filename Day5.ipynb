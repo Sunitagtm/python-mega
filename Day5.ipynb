{
 "cells": [
  {
   "cell_type": "markdown",
   "id": "30558edc",
   "metadata": {},
   "source": [
    "# Tupels continued.....\n",
    "\n"
   ]
  },
  {
   "cell_type": "code",
   "execution_count": 1,
   "id": "bfca547f",
   "metadata": {},
   "outputs": [],
   "source": [
    "x=('apple','mango','banana','apple','apple')"
   ]
  },
  {
   "cell_type": "code",
   "execution_count": 2,
   "id": "bf1ddd2d",
   "metadata": {},
   "outputs": [
    {
     "data": {
      "text/plain": [
       "('apple', 'mango', 'banana', 'apple', 'apple')"
      ]
     },
     "execution_count": 2,
     "metadata": {},
     "output_type": "execute_result"
    }
   ],
   "source": [
    "x"
   ]
  },
  {
   "cell_type": "code",
   "execution_count": 3,
   "id": "871d43da",
   "metadata": {},
   "outputs": [
    {
     "data": {
      "text/plain": [
       "5"
      ]
     },
     "execution_count": 3,
     "metadata": {},
     "output_type": "execute_result"
    }
   ],
   "source": [
    "len(x)"
   ]
  },
  {
   "cell_type": "code",
   "execution_count": 4,
   "id": "ba8d4a6a",
   "metadata": {},
   "outputs": [
    {
     "data": {
      "text/plain": [
       "'banana'"
      ]
     },
     "execution_count": 4,
     "metadata": {},
     "output_type": "execute_result"
    }
   ],
   "source": [
    "x[2]"
   ]
  },
  {
   "cell_type": "code",
   "execution_count": 5,
   "id": "b8b415bc",
   "metadata": {},
   "outputs": [
    {
     "data": {
      "text/plain": [
       "('banana', 'apple', 'apple')"
      ]
     },
     "execution_count": 5,
     "metadata": {},
     "output_type": "execute_result"
    }
   ],
   "source": [
    "x[2:5]"
   ]
  },
  {
   "cell_type": "code",
   "execution_count": 7,
   "id": "fd5ba099",
   "metadata": {},
   "outputs": [],
   "source": [
    "y=list(x)# change into list "
   ]
  },
  {
   "cell_type": "code",
   "execution_count": 15,
   "id": "81e1fe59",
   "metadata": {},
   "outputs": [
    {
     "data": {
      "text/plain": [
       "['apple', 'mango', 'apple', 'apple', 'apple']"
      ]
     },
     "execution_count": 15,
     "metadata": {},
     "output_type": "execute_result"
    }
   ],
   "source": [
    "y"
   ]
  },
  {
   "cell_type": "code",
   "execution_count": 16,
   "id": "4497d4b0",
   "metadata": {},
   "outputs": [],
   "source": [
    "y[2]='apple'#change into apple"
   ]
  },
  {
   "cell_type": "code",
   "execution_count": 17,
   "id": "49bee093",
   "metadata": {},
   "outputs": [
    {
     "data": {
      "text/plain": [
       "['apple', 'mango', 'apple', 'apple', 'apple']"
      ]
     },
     "execution_count": 17,
     "metadata": {},
     "output_type": "execute_result"
    }
   ],
   "source": [
    "y\n"
   ]
  },
  {
   "cell_type": "code",
   "execution_count": 18,
   "id": "d6896da1",
   "metadata": {},
   "outputs": [],
   "source": [
    "x=tuple(y)"
   ]
  },
  {
   "cell_type": "code",
   "execution_count": 19,
   "id": "6043a916",
   "metadata": {},
   "outputs": [
    {
     "data": {
      "text/plain": [
       "('apple', 'mango', 'apple', 'apple', 'apple')"
      ]
     },
     "execution_count": 19,
     "metadata": {},
     "output_type": "execute_result"
    }
   ],
   "source": [
    "x"
   ]
  },
  {
   "cell_type": "code",
   "execution_count": 20,
   "id": "927e98c7",
   "metadata": {},
   "outputs": [
    {
     "data": {
      "text/plain": [
       "tuple"
      ]
     },
     "execution_count": 20,
     "metadata": {},
     "output_type": "execute_result"
    }
   ],
   "source": [
    "type(x)"
   ]
  },
  {
   "cell_type": "code",
   "execution_count": 21,
   "id": "d98496d6",
   "metadata": {},
   "outputs": [],
   "source": [
    "z=('hexcode')"
   ]
  },
  {
   "cell_type": "code",
   "execution_count": 22,
   "id": "9c7693dd",
   "metadata": {},
   "outputs": [
    {
     "data": {
      "text/plain": [
       "str"
      ]
     },
     "execution_count": 22,
     "metadata": {},
     "output_type": "execute_result"
    }
   ],
   "source": [
    "type(z)"
   ]
  },
  {
   "cell_type": "code",
   "execution_count": 23,
   "id": "f0d7bba2",
   "metadata": {},
   "outputs": [],
   "source": [
    "w=(hex,)"
   ]
  },
  {
   "cell_type": "code",
   "execution_count": 24,
   "id": "f9366a9e",
   "metadata": {},
   "outputs": [
    {
     "data": {
      "text/plain": [
       "tuple"
      ]
     },
     "execution_count": 24,
     "metadata": {},
     "output_type": "execute_result"
    }
   ],
   "source": [
    "type(w)"
   ]
  },
  {
   "cell_type": "markdown",
   "id": "c2525f4f",
   "metadata": {},
   "source": [
    "# Set"
   ]
  },
  {
   "cell_type": "code",
   "execution_count": 25,
   "id": "cbeefa39",
   "metadata": {},
   "outputs": [],
   "source": [
    "s1={1,2,3,4,5,6} #creat set"
   ]
  },
  {
   "cell_type": "code",
   "execution_count": 26,
   "id": "fc1b8bae",
   "metadata": {},
   "outputs": [
    {
     "data": {
      "text/plain": [
       "set"
      ]
     },
     "execution_count": 26,
     "metadata": {},
     "output_type": "execute_result"
    }
   ],
   "source": [
    "type(s1)"
   ]
  },
  {
   "cell_type": "code",
   "execution_count": 27,
   "id": "afdec7a5",
   "metadata": {},
   "outputs": [],
   "source": [
    "s2={1,1,1,2,3,4,5,6,7,7}"
   ]
  },
  {
   "cell_type": "code",
   "execution_count": 28,
   "id": "b75a3108",
   "metadata": {},
   "outputs": [
    {
     "data": {
      "text/plain": [
       "{1, 2, 3, 4, 5, 6, 7}"
      ]
     },
     "execution_count": 28,
     "metadata": {},
     "output_type": "execute_result"
    }
   ],
   "source": [
    "s2"
   ]
  },
  {
   "cell_type": "code",
   "execution_count": 29,
   "id": "a18d4218",
   "metadata": {},
   "outputs": [
    {
     "data": {
      "text/plain": [
       "7"
      ]
     },
     "execution_count": 29,
     "metadata": {},
     "output_type": "execute_result"
    }
   ],
   "source": [
    "len(s2) #calculate length"
   ]
  },
  {
   "cell_type": "code",
   "execution_count": 30,
   "id": "fcae023b",
   "metadata": {},
   "outputs": [],
   "source": [
    "s2.add('hi') #add hi in set"
   ]
  },
  {
   "cell_type": "code",
   "execution_count": 31,
   "id": "ba8b3664",
   "metadata": {},
   "outputs": [
    {
     "data": {
      "text/plain": [
       "{1, 2, 3, 4, 5, 6, 7, 'hi'}"
      ]
     },
     "execution_count": 31,
     "metadata": {},
     "output_type": "execute_result"
    }
   ],
   "source": [
    "s2"
   ]
  },
  {
   "cell_type": "code",
   "execution_count": 32,
   "id": "86ddd979",
   "metadata": {},
   "outputs": [],
   "source": [
    "s2.remove(2)# removing 2"
   ]
  },
  {
   "cell_type": "code",
   "execution_count": 33,
   "id": "0dbd1599",
   "metadata": {},
   "outputs": [
    {
     "data": {
      "text/plain": [
       "{1, 3, 4, 5, 6, 7, 'hi'}"
      ]
     },
     "execution_count": 33,
     "metadata": {},
     "output_type": "execute_result"
    }
   ],
   "source": [
    "s2"
   ]
  },
  {
   "cell_type": "code",
   "execution_count": 34,
   "id": "7f5ddbb8",
   "metadata": {},
   "outputs": [
    {
     "name": "stdout",
     "output_type": "stream",
     "text": [
      "1\n",
      "3\n",
      "4\n",
      "5\n",
      "6\n",
      "7\n",
      "hi\n"
     ]
    }
   ],
   "source": [
    "for i in s2:\n",
    "    print(i)  #using for loop"
   ]
  },
  {
   "cell_type": "code",
   "execution_count": 35,
   "id": "89249308",
   "metadata": {},
   "outputs": [],
   "source": [
    "y=list(s2) #set change into list"
   ]
  },
  {
   "cell_type": "code",
   "execution_count": 36,
   "id": "17125881",
   "metadata": {},
   "outputs": [
    {
     "data": {
      "text/plain": [
       "[1, 3, 4, 5, 6, 7, 'hi']"
      ]
     },
     "execution_count": 36,
     "metadata": {},
     "output_type": "execute_result"
    }
   ],
   "source": [
    "y"
   ]
  },
  {
   "cell_type": "code",
   "execution_count": 39,
   "id": "27cdb860",
   "metadata": {},
   "outputs": [],
   "source": [
    "y[6]=('hello word')#hi change into hello word"
   ]
  },
  {
   "cell_type": "code",
   "execution_count": 40,
   "id": "ae8cf4ee",
   "metadata": {},
   "outputs": [
    {
     "data": {
      "text/plain": [
       "[1, 3, 4, 5, 6, 7, 'hello word']"
      ]
     },
     "execution_count": 40,
     "metadata": {},
     "output_type": "execute_result"
    }
   ],
   "source": [
    "y"
   ]
  },
  {
   "cell_type": "markdown",
   "id": "85cf2d70",
   "metadata": {},
   "source": [
    "# If Else Statement"
   ]
  },
  {
   "cell_type": "code",
   "execution_count": 46,
   "id": "e7388c0a",
   "metadata": {},
   "outputs": [
    {
     "name": "stdout",
     "output_type": "stream",
     "text": [
      "Enter any Number:5\n"
     ]
    }
   ],
   "source": [
    "x=int(input('Enter any Number:'))"
   ]
  },
  {
   "cell_type": "code",
   "execution_count": 49,
   "id": "6f816064",
   "metadata": {},
   "outputs": [
    {
     "name": "stdout",
     "output_type": "stream",
     "text": [
      "Number is Odd\n"
     ]
    }
   ],
   "source": [
    "if x%2==0:\n",
    "    print('Number is Even')\n",
    "else:\n",
    "        print('Number is Odd')"
   ]
  },
  {
   "cell_type": "code",
   "execution_count": 54,
   "id": "6755fafb",
   "metadata": {},
   "outputs": [
    {
     "name": "stdout",
     "output_type": "stream",
     "text": [
      "Number is Odd\n"
     ]
    }
   ],
   "source": [
    "if x%2==0: \n",
    "    print('Number is Even')\n",
    "elif x%2==1:\n",
    "    print('Number is Odd')\n",
    "else:\n",
    "    print('Enter integer')\n",
    "    "
   ]
  },
  {
   "cell_type": "markdown",
   "id": "33039517",
   "metadata": {},
   "source": [
    "Exercise:\n",
    "1)  take marks as input from user\n",
    "2) classify the division using following reference\n",
    "    i) marks greater than equal to 80- Distinction\n",
    "    ii)greater or equal to 60 and less than 80-first division\n",
    "    iii)greater or equal to 40 and less than 60-second division\n",
    "    iv)less than 40-kam xaina(fall)\n",
    "    v)Else invalied marks"
   ]
  },
  {
   "cell_type": "code",
   "execution_count": null,
   "id": "95b5844a",
   "metadata": {},
   "outputs": [],
   "source": [
    "marks = float(input('Enter your marks:'))"
   ]
  },
  {
   "cell_type": "code",
   "execution_count": null,
   "id": "b03a602d",
   "metadata": {},
   "outputs": [],
   "source": []
  }
 ],
 "metadata": {
  "kernelspec": {
   "display_name": "Python 3 (ipykernel)",
   "language": "python",
   "name": "python3"
  },
  "language_info": {
   "codemirror_mode": {
    "name": "ipython",
    "version": 3
   },
   "file_extension": ".py",
   "mimetype": "text/x-python",
   "name": "python",
   "nbconvert_exporter": "python",
   "pygments_lexer": "ipython3",
   "version": "3.11.1"
  }
 },
 "nbformat": 4,
 "nbformat_minor": 5
}
