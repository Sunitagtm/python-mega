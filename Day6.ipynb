{
 "cells": [
  {
   "cell_type": "markdown",
   "id": "38cd5a9c",
   "metadata": {},
   "source": [
    "# LOOP"
   ]
  },
  {
   "cell_type": "markdown",
   "id": "7310ff19",
   "metadata": {},
   "source": [
    "While loop"
   ]
  },
  {
   "cell_type": "code",
   "execution_count": 1,
   "id": "946e0a2d",
   "metadata": {},
   "outputs": [],
   "source": [
    "i=0"
   ]
  },
  {
   "cell_type": "code",
   "execution_count": 2,
   "id": "6dbc1e64",
   "metadata": {},
   "outputs": [
    {
     "name": "stdout",
     "output_type": "stream",
     "text": [
      "Hello Hex\n",
      "Hello Hex\n",
      "Hello Hex\n",
      "Hello Hex\n",
      "Hello Hex\n"
     ]
    }
   ],
   "source": [
    "while i<5:\n",
    "    print('Hello Hex')\n",
    "    i+=1"
   ]
  },
  {
   "cell_type": "markdown",
   "id": "4b18b8d1",
   "metadata": {},
   "source": [
    "For loop"
   ]
  },
  {
   "cell_type": "code",
   "execution_count": 3,
   "id": "1b7b5146",
   "metadata": {},
   "outputs": [
    {
     "name": "stdout",
     "output_type": "stream",
     "text": [
      "0\n",
      "1\n",
      "2\n",
      "3\n",
      "4\n",
      "5\n",
      "6\n",
      "7\n",
      "8\n",
      "9\n"
     ]
    }
   ],
   "source": [
    "for i in range(0,10):  #using for loop and print 0 to 10\n",
    "    print(i)"
   ]
  },
  {
   "cell_type": "code",
   "execution_count": 6,
   "id": "7602c644",
   "metadata": {},
   "outputs": [
    {
     "name": "stdout",
     "output_type": "stream",
     "text": [
      "hello hex\n",
      "hello hex\n",
      "hello hex\n",
      "hello hex\n",
      "hello hex\n",
      "hello hex\n",
      "hello hex\n",
      "hello hex\n",
      "hello hex\n",
      "hello hex\n"
     ]
    }
   ],
   "source": [
    "for i in  range(10):\n",
    "    print('hello hex')"
   ]
  },
  {
   "cell_type": "markdown",
   "id": "8a7c0649",
   "metadata": {},
   "source": [
    "print square of first 10  Natural Number"
   ]
  },
  {
   "cell_type": "code",
   "execution_count": 7,
   "id": "962c2bc7",
   "metadata": {},
   "outputs": [
    {
     "name": "stdout",
     "output_type": "stream",
     "text": [
      "1\n",
      "4\n",
      "9\n",
      "16\n",
      "25\n",
      "36\n",
      "49\n",
      "64\n",
      "81\n",
      "100\n"
     ]
    }
   ],
   "source": [
    "for i in range(1,11):\n",
    "    print(i**2)"
   ]
  },
  {
   "cell_type": "markdown",
   "id": "2807456e",
   "metadata": {},
   "source": [
    "print cube of first 10 number"
   ]
  },
  {
   "cell_type": "code",
   "execution_count": 8,
   "id": "8c809bd9",
   "metadata": {},
   "outputs": [
    {
     "name": "stdout",
     "output_type": "stream",
     "text": [
      "1\n",
      "8\n",
      "27\n",
      "64\n",
      "125\n",
      "216\n",
      "343\n",
      "512\n",
      "729\n",
      "1000\n"
     ]
    }
   ],
   "source": [
    "for i in range(1,11):\n",
    "    print(i**3)"
   ]
  },
  {
   "cell_type": "code",
   "execution_count": 12,
   "id": "24cba76f",
   "metadata": {},
   "outputs": [
    {
     "name": "stdout",
     "output_type": "stream",
     "text": [
      "\n",
      "\n",
      "*\n",
      "\n",
      "**\n",
      "\n",
      "***\n",
      "\n",
      "****\n",
      "\n"
     ]
    }
   ],
   "source": [
    "for i in range(1,6):\n",
    "    for j in range(1,i):\n",
    "        print('*',end='')\n",
    "    print('\\n')"
   ]
  },
  {
   "cell_type": "code",
   "execution_count": 21,
   "id": "4890d82c",
   "metadata": {},
   "outputs": [
    {
     "name": "stdout",
     "output_type": "stream",
     "text": [
      "\n",
      "\n",
      "1   \n",
      "\n",
      "1   2   \n",
      "\n",
      "1   2   3   \n",
      "\n",
      "1   2   3   4   \n",
      "\n",
      "1   2   3   4   5   \n",
      "\n"
     ]
    }
   ],
   "source": [
    "for i in range(1,7):\n",
    "    for j in range(1,i):\n",
    "        print(j,end='   ')\n",
    "    print('\\n')"
   ]
  },
  {
   "cell_type": "code",
   "execution_count": 22,
   "id": "eab64751",
   "metadata": {},
   "outputs": [
    {
     "name": "stdout",
     "output_type": "stream",
     "text": [
      "\n",
      "\n",
      "*  \n",
      "\n",
      "*  *  \n",
      "\n",
      "*  *  *  \n",
      "\n",
      "*  *  *  *  \n",
      "\n"
     ]
    }
   ],
   "source": [
    "for i in range(1,6):\n",
    "    for j in range(1,i):\n",
    "        print('*',end='  ')\n",
    "    print('\\n')"
   ]
  },
  {
   "cell_type": "code",
   "execution_count": 2,
   "id": "9e1c4c04",
   "metadata": {},
   "outputs": [],
   "source": [
    "import random"
   ]
  },
  {
   "cell_type": "code",
   "execution_count": 3,
   "id": "8d298015",
   "metadata": {},
   "outputs": [],
   "source": [
    "x= random.randint(1,100)"
   ]
  },
  {
   "cell_type": "markdown",
   "id": "3f1bb3c2",
   "metadata": {},
   "source": [
    "x"
   ]
  },
  {
   "cell_type": "code",
   "execution_count": 1,
   "id": "82e7d40b",
   "metadata": {},
   "outputs": [],
   "source": [
    "import random as rd"
   ]
  },
  {
   "cell_type": "code",
   "execution_count": 2,
   "id": "dc7d1230",
   "metadata": {},
   "outputs": [
    {
     "name": "stdout",
     "output_type": "stream",
     "text": [
      "Enter a Number:1\n",
      "Try Again\n",
      "Your Score is -1\n",
      "Enter a Number:9\n",
      "Try Again\n",
      "Your Score is -1\n",
      "Enter a Number:3\n",
      "Guess is Correct\n"
     ]
    }
   ],
   "source": [
    "x=rd.randint(1,10)\n",
    "score=10\n",
    "while True:\n",
    "    y = int(input('Enter a Number:'))\n",
    "    if y==x:\n",
    "        print('Guess is Correct')\n",
    "        break\n",
    "    else:\n",
    "        score=-1\n",
    "        print('Try Again')\n",
    "    print('Your Score is',score)"
   ]
  },
  {
   "cell_type": "markdown",
   "id": "a65644e8",
   "metadata": {},
   "source": [
    "# Quastion"
   ]
  },
  {
   "cell_type": "markdown",
   "id": "50098786",
   "metadata": {},
   "source": [
    "#calculate the sum of all number 1 to given number"
   ]
  },
  {
   "cell_type": "code",
   "execution_count": 3,
   "id": "41149bfd",
   "metadata": {},
   "outputs": [
    {
     "name": "stdout",
     "output_type": "stream",
     "text": [
      "Enter a Number:3\n",
      "The sum is 6\n"
     ]
    }
   ],
   "source": [
    "x=int(input('Enter a Number:'))\n",
    "sum=0\n",
    "for i in range(1,x+1):\n",
    "    sum+=i\n",
    "print('The sum is',sum)"
   ]
  },
  {
   "cell_type": "code",
   "execution_count": 7,
   "id": "ed10e387",
   "metadata": {},
   "outputs": [
    {
     "name": "stdout",
     "output_type": "stream",
     "text": [
      "Enter a number:100\n",
      "The sum is 5050.0\n"
     ]
    }
   ],
   "source": [
    "n=int(input('Enter a number:'))\n",
    "sum=(n*(n+1))/2\n",
    "print('The sum is',sum)"
   ]
  },
  {
   "cell_type": "code",
   "execution_count": null,
   "id": "12631787",
   "metadata": {},
   "outputs": [],
   "source": []
  }
 ],
 "metadata": {
  "kernelspec": {
   "display_name": "Python 3 (ipykernel)",
   "language": "python",
   "name": "python3"
  },
  "language_info": {
   "codemirror_mode": {
    "name": "ipython",
    "version": 3
   },
   "file_extension": ".py",
   "mimetype": "text/x-python",
   "name": "python",
   "nbconvert_exporter": "python",
   "pygments_lexer": "ipython3",
   "version": "3.11.1"
  }
 },
 "nbformat": 4,
 "nbformat_minor": 5
}
