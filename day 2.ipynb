{
 "cells": [
  {
   "cell_type": "code",
   "execution_count": 4,
   "id": "0487e8f5",
   "metadata": {},
   "outputs": [],
   "source": [
    "x=\"hexcod\""
   ]
  },
  {
   "cell_type": "code",
   "execution_count": 7,
   "id": "3d606055",
   "metadata": {},
   "outputs": [],
   "source": [
    "y=\"nepal\""
   ]
  },
  {
   "cell_type": "code",
   "execution_count": 8,
   "id": "d1f1545e",
   "metadata": {},
   "outputs": [],
   "source": [
    "z=x+y"
   ]
  },
  {
   "cell_type": "code",
   "execution_count": 11,
   "id": "d10bfd09",
   "metadata": {},
   "outputs": [
    {
     "name": "stdout",
     "output_type": "stream",
     "text": [
      "hexcodnepal\n"
     ]
    }
   ],
   "source": [
    "print(z)"
   ]
  },
  {
   "cell_type": "code",
   "execution_count": 26,
   "id": "ef41bf90",
   "metadata": {},
   "outputs": [
    {
     "name": "stdout",
     "output_type": "stream",
     "text": [
      "Enter your first name:sunita\n",
      "Enter your last name:gautam\n"
     ]
    }
   ],
   "source": [
    "f_name = input('Enter your first name:')\n",
    "l_name = input('Enter your last name:')"
   ]
  },
  {
   "cell_type": "code",
   "execution_count": 31,
   "id": "23c069b2",
   "metadata": {},
   "outputs": [
    {
     "name": "stdout",
     "output_type": "stream",
     "text": [
      "Your name issunita gautam\n"
     ]
    }
   ],
   "source": [
    "print('Your name is'+f_name+' '+l_name)"
   ]
  },
  {
   "cell_type": "code",
   "execution_count": 32,
   "id": "ee4c6f10",
   "metadata": {},
   "outputs": [
    {
     "name": "stdout",
     "output_type": "stream",
     "text": [
      "Enter first number:33\n",
      "Enter second number22\n"
     ]
    }
   ],
   "source": [
    "num1=int(input('Enter first number:'))\n",
    "num2=int(input('Enter second number'))"
   ]
  },
  {
   "cell_type": "code",
   "execution_count": 33,
   "id": "38d7060d",
   "metadata": {},
   "outputs": [],
   "source": [
    "sum1=num1+num2"
   ]
  },
  {
   "cell_type": "code",
   "execution_count": 34,
   "id": "dc318a00",
   "metadata": {},
   "outputs": [
    {
     "data": {
      "text/plain": [
       "55"
      ]
     },
     "execution_count": 34,
     "metadata": {},
     "output_type": "execute_result"
    }
   ],
   "source": [
    "sum1"
   ]
  },
  {
   "cell_type": "code",
   "execution_count": 35,
   "id": "ec680478",
   "metadata": {},
   "outputs": [
    {
     "name": "stdout",
     "output_type": "stream",
     "text": [
      "Enter first number:12.1\n"
     ]
    }
   ],
   "source": [
    "num=float(input('Enter first number:'))\n"
   ]
  },
  {
   "cell_type": "code",
   "execution_count": 36,
   "id": "f58a6e04",
   "metadata": {},
   "outputs": [
    {
     "name": "stdout",
     "output_type": "stream",
     "text": [
      "Enter second number:11.1\n"
     ]
    }
   ],
   "source": [
    "num1=float(input('Enter second number:'))"
   ]
  },
  {
   "cell_type": "code",
   "execution_count": 37,
   "id": "9029e1de",
   "metadata": {},
   "outputs": [],
   "source": [
    "diff=num-num1"
   ]
  },
  {
   "cell_type": "code",
   "execution_count": 38,
   "id": "bacc0081",
   "metadata": {},
   "outputs": [
    {
     "name": "stdout",
     "output_type": "stream",
     "text": [
      "1.0\n"
     ]
    }
   ],
   "source": [
    "print(diff)"
   ]
  },
  {
   "cell_type": "code",
   "execution_count": 39,
   "id": "c755067b",
   "metadata": {},
   "outputs": [
    {
     "name": "stdout",
     "output_type": "stream",
     "text": [
      "Enter first number:13.11\n"
     ]
    }
   ],
   "source": [
    "n=float(input('Enter first number:'))"
   ]
  },
  {
   "cell_type": "code",
   "execution_count": 42,
   "id": "830a23ca",
   "metadata": {},
   "outputs": [
    {
     "name": "stdout",
     "output_type": "stream",
     "text": [
      "Enter second number:15.3\n"
     ]
    }
   ],
   "source": [
    "n2=float(input('Enter second number:'))"
   ]
  },
  {
   "cell_type": "code",
   "execution_count": 46,
   "id": "7a9ece28",
   "metadata": {},
   "outputs": [],
   "source": [
    "mula=n*n2"
   ]
  },
  {
   "cell_type": "code",
   "execution_count": 51,
   "id": "5e9a9775",
   "metadata": {},
   "outputs": [
    {
     "name": "stdout",
     "output_type": "stream",
     "text": [
      "The multiply is 234.09000000000003\n"
     ]
    }
   ],
   "source": [
    "print('The multiply is' ,mul)"
   ]
  },
  {
   "cell_type": "code",
   "execution_count": 52,
   "id": "3faf05b8",
   "metadata": {},
   "outputs": [
    {
     "data": {
      "text/plain": [
       "1.5"
      ]
     },
     "execution_count": 52,
     "metadata": {},
     "output_type": "execute_result"
    }
   ],
   "source": [
    "3/2"
   ]
  },
  {
   "cell_type": "code",
   "execution_count": 53,
   "id": "e28793cf",
   "metadata": {},
   "outputs": [
    {
     "data": {
      "text/plain": [
       "1"
      ]
     },
     "execution_count": 53,
     "metadata": {},
     "output_type": "execute_result"
    }
   ],
   "source": [
    "3//2"
   ]
  },
  {
   "cell_type": "code",
   "execution_count": 54,
   "id": "8bcdd93a",
   "metadata": {},
   "outputs": [
    {
     "data": {
      "text/plain": [
       "1"
      ]
     },
     "execution_count": 54,
     "metadata": {},
     "output_type": "execute_result"
    }
   ],
   "source": [
    "3%2"
   ]
  },
  {
   "cell_type": "code",
   "execution_count": null,
   "id": "343c748f",
   "metadata": {},
   "outputs": [],
   "source": []
  }
 ],
 "metadata": {
  "kernelspec": {
   "display_name": "Python 3 (ipykernel)",
   "language": "python",
   "name": "python3"
  },
  "language_info": {
   "codemirror_mode": {
    "name": "ipython",
    "version": 3
   },
   "file_extension": ".py",
   "mimetype": "text/x-python",
   "name": "python",
   "nbconvert_exporter": "python",
   "pygments_lexer": "ipython3",
   "version": "3.11.1"
  }
 },
 "nbformat": 4,
 "nbformat_minor": 5
}
