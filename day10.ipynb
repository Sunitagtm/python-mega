{
 "cells": [
  {
   "cell_type": "markdown",
   "id": "4e97b115",
   "metadata": {},
   "source": [
    "# Classes And Objects"
   ]
  },
  {
   "cell_type": "code",
   "execution_count": 1,
   "id": "2ec72bce",
   "metadata": {},
   "outputs": [],
   "source": [
    "#Define class\n",
    "class person:\n",
    "    name = ''\n",
    "    age = 0"
   ]
  },
  {
   "cell_type": "code",
   "execution_count": 2,
   "id": "50fc0541",
   "metadata": {},
   "outputs": [],
   "source": [
    "p1=person()"
   ]
  },
  {
   "cell_type": "code",
   "execution_count": 3,
   "id": "927eb8da",
   "metadata": {},
   "outputs": [],
   "source": [
    "p1.age=19"
   ]
  },
  {
   "cell_type": "code",
   "execution_count": 4,
   "id": "3bf06bc4",
   "metadata": {},
   "outputs": [],
   "source": [
    "p1.name='sunita gautam'"
   ]
  },
  {
   "cell_type": "code",
   "execution_count": 5,
   "id": "242153d3",
   "metadata": {},
   "outputs": [],
   "source": [
    "p2=person"
   ]
  },
  {
   "cell_type": "code",
   "execution_count": 6,
   "id": "4ee6cb4e",
   "metadata": {},
   "outputs": [
    {
     "data": {
      "text/plain": [
       "19"
      ]
     },
     "execution_count": 6,
     "metadata": {},
     "output_type": "execute_result"
    }
   ],
   "source": [
    "p1.age"
   ]
  },
  {
   "cell_type": "code",
   "execution_count": 7,
   "id": "2d6ac0ba",
   "metadata": {},
   "outputs": [
    {
     "data": {
      "text/plain": [
       "0"
      ]
     },
     "execution_count": 7,
     "metadata": {},
     "output_type": "execute_result"
    }
   ],
   "source": [
    "p2.age"
   ]
  },
  {
   "cell_type": "markdown",
   "id": "ff69c297",
   "metadata": {},
   "source": [
    "init function"
   ]
  },
  {
   "cell_type": "code",
   "execution_count": 13,
   "id": "a76a602a",
   "metadata": {},
   "outputs": [],
   "source": [
    "class person:\n",
    "    def __init__(self,name,age):\n",
    "        self.name=name\n",
    "        self.age=age"
   ]
  },
  {
   "cell_type": "code",
   "execution_count": 14,
   "id": "d6e22f16",
   "metadata": {},
   "outputs": [],
   "source": [
    "p3=person('Hexcod',1)"
   ]
  },
  {
   "cell_type": "code",
   "execution_count": 24,
   "id": "c9925634",
   "metadata": {},
   "outputs": [],
   "source": [
    "class person:\n",
    "    def __init__(self,fname,lname,dob):\n",
    "        self.fname=fname\n",
    "        self.lname=lname\n",
    "        self.dob=dob\n",
    "    def fullname(self):\n",
    "            return self.fname+' '+self.lname\n",
    "    def age(self):\n",
    "            return (2023-self.dob)"
   ]
  },
  {
   "cell_type": "code",
   "execution_count": 28,
   "id": "c953ba0b",
   "metadata": {},
   "outputs": [],
   "source": [
    "x = person('Sunita','Gautam',2004)"
   ]
  },
  {
   "cell_type": "code",
   "execution_count": 29,
   "id": "c068a807",
   "metadata": {},
   "outputs": [
    {
     "data": {
      "text/plain": [
       "'Sunita Gautam'"
      ]
     },
     "execution_count": 29,
     "metadata": {},
     "output_type": "execute_result"
    }
   ],
   "source": [
    "x.fullname()"
   ]
  },
  {
   "cell_type": "code",
   "execution_count": 30,
   "id": "6343ab12",
   "metadata": {},
   "outputs": [
    {
     "data": {
      "text/plain": [
       "19"
      ]
     },
     "execution_count": 30,
     "metadata": {},
     "output_type": "execute_result"
    }
   ],
   "source": [
    "x.age()"
   ]
  },
  {
   "cell_type": "code",
   "execution_count": 41,
   "id": "3ebad5ac",
   "metadata": {},
   "outputs": [
    {
     "name": "stderr",
     "output_type": "stream",
     "text": [
      "<>:9: SyntaxWarning: 'int' object is not callable; perhaps you missed a comma?\n",
      "<>:9: SyntaxWarning: 'int' object is not callable; perhaps you missed a comma?\n",
      "C:\\Users\\DELL\\AppData\\Local\\Temp\\ipykernel_14560\\2637170367.py:9: SyntaxWarning: 'int' object is not callable; perhaps you missed a comma?\n",
      "  return 2(l*b*h)\n"
     ]
    }
   ],
   "source": [
    "class room:\n",
    "    def __init__(self,length,breadth,height):\n",
    "        self.length=length\n",
    "        self,breadth=breadth\n",
    "        self.height=height\n",
    "    def area(self):\n",
    "            return self.length*self.breadth\n",
    "    def age(self):\n",
    "            return 2(l*b*h)"
   ]
  },
  {
   "cell_type": "code",
   "execution_count": null,
   "id": "3398ac03",
   "metadata": {},
   "outputs": [],
   "source": []
  },
  {
   "cell_type": "code",
   "execution_count": 48,
   "id": "8461709c",
   "metadata": {},
   "outputs": [],
   "source": [
    "class student(person):\n",
    "    def info(self):\n",
    "        print(f\" my name is',{self.fname} and i am student.\")"
   ]
  },
  {
   "cell_type": "code",
   "execution_count": 49,
   "id": "7237b386",
   "metadata": {},
   "outputs": [],
   "source": [
    "s1 = student('Sunita','Gautam',2004)"
   ]
  },
  {
   "cell_type": "code",
   "execution_count": 52,
   "id": "dbb9a704",
   "metadata": {},
   "outputs": [
    {
     "name": "stdout",
     "output_type": "stream",
     "text": [
      " my name is',Sunita and i am student.\n"
     ]
    }
   ],
   "source": [
    "s1.info()"
   ]
  },
  {
   "cell_type": "code",
   "execution_count": 53,
   "id": "1a2091aa",
   "metadata": {},
   "outputs": [],
   "source": [
    "x='hi'\n",
    "y='good'"
   ]
  },
  {
   "cell_type": "code",
   "execution_count": 54,
   "id": "03259065",
   "metadata": {},
   "outputs": [
    {
     "name": "stdout",
     "output_type": "stream",
     "text": [
      "she always does hi hi in class but performs good in exam\n"
     ]
    }
   ],
   "source": [
    "print(f\"she always does {x} {x} in class but performs {y} in exam\")"
   ]
  },
  {
   "cell_type": "code",
   "execution_count": null,
   "id": "9e9efd4d",
   "metadata": {},
   "outputs": [],
   "source": [
    "#poligen create parent class \n",
    "#n of sites\n",
    "#sites leangth\n",
    "#child trangle class and rectangle class \n",
    "#return Area"
   ]
  }
 ],
 "metadata": {
  "kernelspec": {
   "display_name": "Python 3 (ipykernel)",
   "language": "python",
   "name": "python3"
  },
  "language_info": {
   "codemirror_mode": {
    "name": "ipython",
    "version": 3
   },
   "file_extension": ".py",
   "mimetype": "text/x-python",
   "name": "python",
   "nbconvert_exporter": "python",
   "pygments_lexer": "ipython3",
   "version": "3.11.1"
  }
 },
 "nbformat": 4,
 "nbformat_minor": 5
}
