{
 "cells": [
  {
   "cell_type": "markdown",
   "id": "2f9715bd",
   "metadata": {},
   "source": [
    "# Operators\n",
    "Arthmetic Operators\n"
   ]
  },
  {
   "cell_type": "code",
   "execution_count": 2,
   "id": "bbd54014",
   "metadata": {},
   "outputs": [
    {
     "name": "stdout",
     "output_type": "stream",
     "text": [
      "3\n"
     ]
    }
   ],
   "source": [
    "a=1\n",
    "b=2\n",
    "sum=a+b\n",
    "print(sum)"
   ]
  },
  {
   "cell_type": "code",
   "execution_count": 3,
   "id": "f18da5c5",
   "metadata": {},
   "outputs": [
    {
     "name": "stdout",
     "output_type": "stream",
     "text": [
      "-1\n"
     ]
    }
   ],
   "source": [
    "sub=a-b\n",
    "print(sub)"
   ]
  },
  {
   "cell_type": "code",
   "execution_count": 4,
   "id": "6f6b02dc",
   "metadata": {},
   "outputs": [
    {
     "name": "stdout",
     "output_type": "stream",
     "text": [
      "enterthe number:4\n",
      "enter the number:4\n"
     ]
    }
   ],
   "source": [
    "m=float(input(\"enterthe number:\"))\n",
    "n=float(input(\"enter the number:\"))"
   ]
  },
  {
   "cell_type": "code",
   "execution_count": 5,
   "id": "6829e723",
   "metadata": {},
   "outputs": [],
   "source": [
    "add=m+n\n",
    "multiple=m*n\n",
    "divide=m/n\n",
    "subtract=m-n\n",
    "divide2=m//n\n",
    "exp=m**n\n",
    "mod=m%n\n"
   ]
  },
  {
   "cell_type": "code",
   "execution_count": 6,
   "id": "9f236eba",
   "metadata": {},
   "outputs": [
    {
     "data": {
      "text/plain": [
       "8.0"
      ]
     },
     "execution_count": 6,
     "metadata": {},
     "output_type": "execute_result"
    }
   ],
   "source": [
    "add"
   ]
  },
  {
   "cell_type": "code",
   "execution_count": 7,
   "id": "b1542ee1",
   "metadata": {},
   "outputs": [
    {
     "data": {
      "text/plain": [
       "16.0"
      ]
     },
     "execution_count": 7,
     "metadata": {},
     "output_type": "execute_result"
    }
   ],
   "source": [
    "multiple"
   ]
  },
  {
   "cell_type": "code",
   "execution_count": 8,
   "id": "1054189e",
   "metadata": {},
   "outputs": [
    {
     "data": {
      "text/plain": [
       "1.0"
      ]
     },
     "execution_count": 8,
     "metadata": {},
     "output_type": "execute_result"
    }
   ],
   "source": [
    "divide"
   ]
  },
  {
   "cell_type": "code",
   "execution_count": 9,
   "id": "95dc94dd",
   "metadata": {},
   "outputs": [
    {
     "data": {
      "text/plain": [
       "0.0"
      ]
     },
     "execution_count": 9,
     "metadata": {},
     "output_type": "execute_result"
    }
   ],
   "source": [
    "subtract"
   ]
  },
  {
   "cell_type": "code",
   "execution_count": 10,
   "id": "4b02e7dc",
   "metadata": {},
   "outputs": [
    {
     "data": {
      "text/plain": [
       "1.0"
      ]
     },
     "execution_count": 10,
     "metadata": {},
     "output_type": "execute_result"
    }
   ],
   "source": [
    "divide"
   ]
  },
  {
   "cell_type": "code",
   "execution_count": 11,
   "id": "200da0b2",
   "metadata": {},
   "outputs": [
    {
     "data": {
      "text/plain": [
       "1.0"
      ]
     },
     "execution_count": 11,
     "metadata": {},
     "output_type": "execute_result"
    }
   ],
   "source": [
    "divide2"
   ]
  },
  {
   "cell_type": "code",
   "execution_count": 12,
   "id": "a17b7363",
   "metadata": {},
   "outputs": [
    {
     "data": {
      "text/plain": [
       "256.0"
      ]
     },
     "execution_count": 12,
     "metadata": {},
     "output_type": "execute_result"
    }
   ],
   "source": [
    "exp"
   ]
  },
  {
   "cell_type": "code",
   "execution_count": 13,
   "id": "8350e282",
   "metadata": {},
   "outputs": [
    {
     "data": {
      "text/plain": [
       "0.0"
      ]
     },
     "execution_count": 13,
     "metadata": {},
     "output_type": "execute_result"
    }
   ],
   "source": [
    "mod"
   ]
  },
  {
   "cell_type": "markdown",
   "id": "c78f7f44",
   "metadata": {},
   "source": [
    "Assigment Operators"
   ]
  },
  {
   "cell_type": "code",
   "execution_count": 15,
   "id": "5e2f393d",
   "metadata": {},
   "outputs": [
    {
     "name": "stdout",
     "output_type": "stream",
     "text": [
      "enter the number1\n"
     ]
    }
   ],
   "source": [
    "m=int(input(\"enter the number\"))"
   ]
  },
  {
   "cell_type": "code",
   "execution_count": 17,
   "id": "90657d45",
   "metadata": {},
   "outputs": [],
   "source": [
    "m+=4"
   ]
  },
  {
   "cell_type": "code",
   "execution_count": 18,
   "id": "3538b4c2",
   "metadata": {},
   "outputs": [
    {
     "data": {
      "text/plain": [
       "5"
      ]
     },
     "execution_count": 18,
     "metadata": {},
     "output_type": "execute_result"
    }
   ],
   "source": [
    "m"
   ]
  },
  {
   "cell_type": "code",
   "execution_count": 19,
   "id": "40ca5ed6",
   "metadata": {},
   "outputs": [],
   "source": [
    "m*=4"
   ]
  },
  {
   "cell_type": "code",
   "execution_count": 20,
   "id": "41543709",
   "metadata": {},
   "outputs": [
    {
     "data": {
      "text/plain": [
       "20"
      ]
     },
     "execution_count": 20,
     "metadata": {},
     "output_type": "execute_result"
    }
   ],
   "source": [
    "m"
   ]
  },
  {
   "cell_type": "code",
   "execution_count": 21,
   "id": "37dc4fbd",
   "metadata": {},
   "outputs": [],
   "source": [
    "m-=4"
   ]
  },
  {
   "cell_type": "code",
   "execution_count": 22,
   "id": "34dc1c12",
   "metadata": {},
   "outputs": [
    {
     "data": {
      "text/plain": [
       "16"
      ]
     },
     "execution_count": 22,
     "metadata": {},
     "output_type": "execute_result"
    }
   ],
   "source": [
    "m"
   ]
  },
  {
   "cell_type": "code",
   "execution_count": null,
   "id": "d78ed484",
   "metadata": {},
   "outputs": [],
   "source": []
  },
  {
   "cell_type": "markdown",
   "id": "76e3b616",
   "metadata": {},
   "source": [
    "Comparision Operators"
   ]
  },
  {
   "cell_type": "code",
   "execution_count": 23,
   "id": "9243db9b",
   "metadata": {},
   "outputs": [
    {
     "name": "stdout",
     "output_type": "stream",
     "text": [
      "enter the number:2\n",
      "enter the number:3\n"
     ]
    }
   ],
   "source": [
    "s=float(input(\"enter the number:\"))\n",
    "d=float(input(\"enter the number:\"))"
   ]
  },
  {
   "cell_type": "code",
   "execution_count": 24,
   "id": "771c664e",
   "metadata": {},
   "outputs": [
    {
     "data": {
      "text/plain": [
       "False"
      ]
     },
     "execution_count": 24,
     "metadata": {},
     "output_type": "execute_result"
    }
   ],
   "source": [
    "s==d#equal to"
   ]
  },
  {
   "cell_type": "code",
   "execution_count": 25,
   "id": "38fedc71",
   "metadata": {},
   "outputs": [
    {
     "data": {
      "text/plain": [
       "False"
      ]
     },
     "execution_count": 25,
     "metadata": {},
     "output_type": "execute_result"
    }
   ],
   "source": [
    "s>d #greater than"
   ]
  },
  {
   "cell_type": "code",
   "execution_count": 26,
   "id": "eccb949c",
   "metadata": {},
   "outputs": [
    {
     "data": {
      "text/plain": [
       "True"
      ]
     },
     "execution_count": 26,
     "metadata": {},
     "output_type": "execute_result"
    }
   ],
   "source": [
    "s<d #less than"
   ]
  },
  {
   "cell_type": "code",
   "execution_count": 27,
   "id": "e257ad14",
   "metadata": {},
   "outputs": [
    {
     "data": {
      "text/plain": [
       "True"
      ]
     },
     "execution_count": 27,
     "metadata": {},
     "output_type": "execute_result"
    }
   ],
   "source": [
    "s<=d #less equal to"
   ]
  },
  {
   "cell_type": "code",
   "execution_count": 28,
   "id": "26e2bda8",
   "metadata": {},
   "outputs": [
    {
     "data": {
      "text/plain": [
       "False"
      ]
     },
     "execution_count": 28,
     "metadata": {},
     "output_type": "execute_result"
    }
   ],
   "source": [
    "s>=d #greater equal to"
   ]
  },
  {
   "cell_type": "code",
   "execution_count": 29,
   "id": "a8e0899e",
   "metadata": {},
   "outputs": [
    {
     "data": {
      "text/plain": [
       "False"
      ]
     },
     "execution_count": 29,
     "metadata": {},
     "output_type": "execute_result"
    }
   ],
   "source": [
    "s>=d #not equal to"
   ]
  },
  {
   "cell_type": "code",
   "execution_count": 30,
   "id": "f5c9d3f1",
   "metadata": {},
   "outputs": [
    {
     "data": {
      "text/plain": [
       "True"
      ]
     },
     "execution_count": 30,
     "metadata": {},
     "output_type": "execute_result"
    }
   ],
   "source": [
    "s!=d #not equal to"
   ]
  },
  {
   "cell_type": "markdown",
   "id": "2ccd1e8c",
   "metadata": {},
   "source": [
    "Logical Operaters"
   ]
  },
  {
   "cell_type": "code",
   "execution_count": 32,
   "id": "54673650",
   "metadata": {},
   "outputs": [
    {
     "data": {
      "text/plain": [
       "False"
      ]
     },
     "execution_count": 32,
     "metadata": {},
     "output_type": "execute_result"
    }
   ],
   "source": [
    "2<3 and 1<0 #and operators"
   ]
  },
  {
   "cell_type": "code",
   "execution_count": 33,
   "id": "06b69e8e",
   "metadata": {},
   "outputs": [
    {
     "data": {
      "text/plain": [
       "False"
      ]
     },
     "execution_count": 33,
     "metadata": {},
     "output_type": "execute_result"
    }
   ],
   "source": [
    "s>2 or d>3 #or operators "
   ]
  },
  {
   "cell_type": "code",
   "execution_count": 34,
   "id": "491eaeab",
   "metadata": {},
   "outputs": [
    {
     "data": {
      "text/plain": [
       "True"
      ]
     },
     "execution_count": 34,
     "metadata": {},
     "output_type": "execute_result"
    }
   ],
   "source": [
    "not(2<3 and 5<0)"
   ]
  },
  {
   "cell_type": "markdown",
   "id": "2d092aa6",
   "metadata": {},
   "source": [
    "# Data Types"
   ]
  },
  {
   "cell_type": "markdown",
   "id": "cf5b956b",
   "metadata": {},
   "source": [
    "String"
   ]
  },
  {
   "cell_type": "code",
   "execution_count": 46,
   "id": "3242ac03",
   "metadata": {},
   "outputs": [],
   "source": [
    "x=\"my name is sunita gautam \""
   ]
  },
  {
   "cell_type": "code",
   "execution_count": 47,
   "id": "12c23558",
   "metadata": {},
   "outputs": [
    {
     "data": {
      "text/plain": [
       "25"
      ]
     },
     "execution_count": 47,
     "metadata": {},
     "output_type": "execute_result"
    }
   ],
   "source": [
    "len(x)"
   ]
  },
  {
   "cell_type": "code",
   "execution_count": 48,
   "id": "41f14c46",
   "metadata": {},
   "outputs": [
    {
     "data": {
      "text/plain": [
       "'sunita'"
      ]
     },
     "execution_count": 48,
     "metadata": {},
     "output_type": "execute_result"
    }
   ],
   "source": [
    "x[11:17]"
   ]
  },
  {
   "cell_type": "code",
   "execution_count": 49,
   "id": "9a37c32d",
   "metadata": {},
   "outputs": [
    {
     "data": {
      "text/plain": [
       "'sunita gautam '"
      ]
     },
     "execution_count": 49,
     "metadata": {},
     "output_type": "execute_result"
    }
   ],
   "source": [
    "x[11::]"
   ]
  },
  {
   "cell_type": "code",
   "execution_count": 51,
   "id": "62a2148d",
   "metadata": {},
   "outputs": [
    {
     "data": {
      "text/plain": [
       "'sunita gautam'"
      ]
     },
     "execution_count": 51,
     "metadata": {},
     "output_type": "execute_result"
    }
   ],
   "source": [
    "x[-14:-1]"
   ]
  },
  {
   "cell_type": "code",
   "execution_count": 56,
   "id": "38de0c71",
   "metadata": {},
   "outputs": [],
   "source": [
    "d= \"i am a student\""
   ]
  },
  {
   "cell_type": "code",
   "execution_count": 57,
   "id": "f41b7f60",
   "metadata": {},
   "outputs": [
    {
     "data": {
      "text/plain": [
       "14"
      ]
     },
     "execution_count": 57,
     "metadata": {},
     "output_type": "execute_result"
    }
   ],
   "source": [
    "len(d)"
   ]
  },
  {
   "cell_type": "code",
   "execution_count": 59,
   "id": "ab186ede",
   "metadata": {},
   "outputs": [
    {
     "data": {
      "text/plain": [
       "'tneduts a ma i'"
      ]
     },
     "execution_count": 59,
     "metadata": {},
     "output_type": "execute_result"
    }
   ],
   "source": [
    "d[::-1]"
   ]
  },
  {
   "cell_type": "code",
   "execution_count": 60,
   "id": "aead0ab3",
   "metadata": {},
   "outputs": [],
   "source": [
    "z=d.split()"
   ]
  },
  {
   "cell_type": "code",
   "execution_count": 61,
   "id": "809e0837",
   "metadata": {},
   "outputs": [
    {
     "data": {
      "text/plain": [
       "['i', 'am', 'a', 'student']"
      ]
     },
     "execution_count": 61,
     "metadata": {},
     "output_type": "execute_result"
    }
   ],
   "source": [
    "z"
   ]
  },
  {
   "cell_type": "code",
   "execution_count": 66,
   "id": "9fba5c8d",
   "metadata": {},
   "outputs": [],
   "source": [
    "d=\"Ixamxaxdoctor\""
   ]
  },
  {
   "cell_type": "code",
   "execution_count": 67,
   "id": "59d6aea7",
   "metadata": {},
   "outputs": [],
   "source": [
    "e=d.split(\"x\")"
   ]
  },
  {
   "cell_type": "code",
   "execution_count": 68,
   "id": "0eec32b2",
   "metadata": {},
   "outputs": [
    {
     "data": {
      "text/plain": [
       "['I', 'am', 'a', 'doctor']"
      ]
     },
     "execution_count": 68,
     "metadata": {},
     "output_type": "execute_result"
    }
   ],
   "source": [
    "e"
   ]
  },
  {
   "cell_type": "code",
   "execution_count": 70,
   "id": "4067c20e",
   "metadata": {},
   "outputs": [],
   "source": [
    "str1=\"i am sunita\""
   ]
  },
  {
   "cell_type": "code",
   "execution_count": 72,
   "id": "96538b6e",
   "metadata": {},
   "outputs": [
    {
     "data": {
      "text/plain": [
       "'I am sunita'"
      ]
     },
     "execution_count": 72,
     "metadata": {},
     "output_type": "execute_result"
    }
   ],
   "source": [
    "str1.capitalize() #it helps to capital the first word"
   ]
  },
  {
   "cell_type": "code",
   "execution_count": 73,
   "id": "0cc3c378",
   "metadata": {},
   "outputs": [
    {
     "data": {
      "text/plain": [
       "'ixamxaxdoctor'"
      ]
     },
     "execution_count": 73,
     "metadata": {},
     "output_type": "execute_result"
    }
   ],
   "source": [
    "d.casefold() #it helps to change the first world capital"
   ]
  },
  {
   "cell_type": "code",
   "execution_count": 74,
   "id": "10013798",
   "metadata": {},
   "outputs": [
    {
     "data": {
      "text/plain": [
       "'      Ixamxaxdoctor      '"
      ]
     },
     "execution_count": 74,
     "metadata": {},
     "output_type": "execute_result"
    }
   ],
   "source": [
    "d.center(25) #it helps to increse"
   ]
  },
  {
   "cell_type": "code",
   "execution_count": 76,
   "id": "a5bd1732",
   "metadata": {},
   "outputs": [
    {
     "data": {
      "text/plain": [
       "1"
      ]
     },
     "execution_count": 76,
     "metadata": {},
     "output_type": "execute_result"
    }
   ],
   "source": [
    "d.count(\"t\") #it helps to count the word"
   ]
  },
  {
   "cell_type": "code",
   "execution_count": 77,
   "id": "b296c27f",
   "metadata": {},
   "outputs": [
    {
     "data": {
      "text/plain": [
       "b'Ixamxaxdoctor'"
      ]
     },
     "execution_count": 77,
     "metadata": {},
     "output_type": "execute_result"
    }
   ],
   "source": [
    "d.encode()"
   ]
  },
  {
   "cell_type": "code",
   "execution_count": 78,
   "id": "3b7f9310",
   "metadata": {},
   "outputs": [
    {
     "data": {
      "text/plain": [
       "True"
      ]
     },
     "execution_count": 78,
     "metadata": {},
     "output_type": "execute_result"
    }
   ],
   "source": [
    "d.isalpha()"
   ]
  },
  {
   "cell_type": "code",
   "execution_count": 81,
   "id": "dacd3807",
   "metadata": {},
   "outputs": [
    {
     "data": {
      "text/plain": [
       "False"
      ]
     },
     "execution_count": 81,
     "metadata": {},
     "output_type": "execute_result"
    }
   ],
   "source": [
    "d.endswith(\"i\") #it helps to show the truely end the sentence or not"
   ]
  },
  {
   "cell_type": "code",
   "execution_count": 82,
   "id": "90aef8e4",
   "metadata": {},
   "outputs": [
    {
     "data": {
      "text/plain": [
       "'Ixamxaxdoctor'"
      ]
     },
     "execution_count": 82,
     "metadata": {},
     "output_type": "execute_result"
    }
   ],
   "source": [
    " d.expandtabs(3)"
   ]
  },
  {
   "cell_type": "code",
   "execution_count": null,
   "id": "cbb61880",
   "metadata": {},
   "outputs": [],
   "source": []
  }
 ],
 "metadata": {
  "kernelspec": {
   "display_name": "Python 3 (ipykernel)",
   "language": "python",
   "name": "python3"
  },
  "language_info": {
   "codemirror_mode": {
    "name": "ipython",
    "version": 3
   },
   "file_extension": ".py",
   "mimetype": "text/x-python",
   "name": "python",
   "nbconvert_exporter": "python",
   "pygments_lexer": "ipython3",
   "version": "3.11.1"
  }
 },
 "nbformat": 4,
 "nbformat_minor": 5
}
