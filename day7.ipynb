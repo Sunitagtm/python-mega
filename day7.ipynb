{
 "cells": [
  {
   "cell_type": "markdown",
   "id": "246c88b4",
   "metadata": {},
   "source": [
    "# Function"
   ]
  },
  {
   "cell_type": "code",
   "execution_count": 1,
   "id": "0368a2d5",
   "metadata": {},
   "outputs": [],
   "source": [
    "def welcome():\n",
    "    print('hello hex')\n"
   ]
  },
  {
   "cell_type": "code",
   "execution_count": 2,
   "id": "2d3659b5",
   "metadata": {},
   "outputs": [
    {
     "name": "stdout",
     "output_type": "stream",
     "text": [
      "hello hex\n"
     ]
    }
   ],
   "source": [
    "welcome()       # call function "
   ]
  },
  {
   "cell_type": "code",
   "execution_count": 3,
   "id": "630d2a7f",
   "metadata": {},
   "outputs": [],
   "source": [
    "def addition(x,y):\n",
    "    result=x+y\n",
    "    return result"
   ]
  },
  {
   "cell_type": "code",
   "execution_count": 4,
   "id": "c89253c7",
   "metadata": {},
   "outputs": [
    {
     "data": {
      "text/plain": [
       "5"
      ]
     },
     "execution_count": 4,
     "metadata": {},
     "output_type": "execute_result"
    }
   ],
   "source": [
    "addition(2,3)           #call function addition and enter a number 2and 3"
   ]
  },
  {
   "cell_type": "code",
   "execution_count": 5,
   "id": "ebe785c0",
   "metadata": {},
   "outputs": [],
   "source": [
    "def factorial(a,b):   #call function fac...\n",
    "    res=2%2\n",
    "    return res"
   ]
  },
  {
   "cell_type": "code",
   "execution_count": 8,
   "id": "3a7cd867",
   "metadata": {},
   "outputs": [
    {
     "data": {
      "text/plain": [
       "0"
      ]
     },
     "execution_count": 8,
     "metadata": {},
     "output_type": "execute_result"
    }
   ],
   "source": [
    "factorial (2,2)"
   ]
  },
  {
   "cell_type": "code",
   "execution_count": null,
   "id": "c7929bfb",
   "metadata": {},
   "outputs": [],
   "source": [
    "# def fact(n):            # function  recursive \n",
    "    if n==1:\n",
    "        return 1\n",
    "    else:\n",
    "        return n*fact(n-1)"
   ]
  },
  {
   "cell_type": "code",
   "execution_count": 10,
   "id": "d6e75db5",
   "metadata": {},
   "outputs": [
    {
     "data": {
      "text/plain": [
       "120"
      ]
     },
     "execution_count": 10,
     "metadata": {},
     "output_type": "execute_result"
    }
   ],
   "source": [
    "fact(5)"
   ]
  },
  {
   "cell_type": "code",
   "execution_count": 15,
   "id": "351a5323",
   "metadata": {},
   "outputs": [],
   "source": [
    "def fact(n):\n",
    "    res=1                     #functuin basic program\n",
    "    for i in range(1,n+1):\n",
    "        res=res*i\n",
    "    return res"
   ]
  },
  {
   "cell_type": "code",
   "execution_count": 16,
   "id": "11f37c65",
   "metadata": {},
   "outputs": [
    {
     "data": {
      "text/plain": [
       "120"
      ]
     },
     "execution_count": 16,
     "metadata": {},
     "output_type": "execute_result"
    }
   ],
   "source": [
    "fact(5)"
   ]
  },
  {
   "cell_type": "markdown",
   "id": "52248360",
   "metadata": {},
   "source": [
    "# Recursive Function"
   ]
  },
  {
   "cell_type": "code",
   "execution_count": 17,
   "id": "91d510f5",
   "metadata": {},
   "outputs": [],
   "source": [
    "def fact(n):\n",
    "    if n==1:\n",
    "        return 1\n",
    "    else:\n",
    "        return n*fact(n-1)"
   ]
  },
  {
   "cell_type": "code",
   "execution_count": 18,
   "id": "2cbec3ec",
   "metadata": {},
   "outputs": [
    {
     "data": {
      "text/plain": [
       "5040"
      ]
     },
     "execution_count": 18,
     "metadata": {},
     "output_type": "execute_result"
    }
   ],
   "source": [
    "fact(7)"
   ]
  },
  {
   "cell_type": "code",
   "execution_count": 30,
   "id": "6b8177aa",
   "metadata": {},
   "outputs": [],
   "source": [
    "def prime(l_value,U_value):\n",
    "    for i in range(l_value,U_value+1):\n",
    "        for j in range(2,i):               #factorial function\n",
    "            if i%j==0:\n",
    "                break\n",
    "        else:\n",
    "            print(i,end=' ')"
   ]
  },
  {
   "cell_type": "code",
   "execution_count": 31,
   "id": "1af603d3",
   "metadata": {},
   "outputs": [
    {
     "name": "stdout",
     "output_type": "stream",
     "text": [
      "23 29 31 37 41 43 47 "
     ]
    }
   ],
   "source": [
    "prime(23,50)"
   ]
  },
  {
   "cell_type": "code",
   "execution_count": null,
   "id": "15aff56a",
   "metadata": {},
   "outputs": [],
   "source": []
  }
 ],
 "metadata": {
  "kernelspec": {
   "display_name": "Python 3 (ipykernel)",
   "language": "python",
   "name": "python3"
  },
  "language_info": {
   "codemirror_mode": {
    "name": "ipython",
    "version": 3
   },
   "file_extension": ".py",
   "mimetype": "text/x-python",
   "name": "python",
   "nbconvert_exporter": "python",
   "pygments_lexer": "ipython3",
   "version": "3.11.1"
  }
 },
 "nbformat": 4,
 "nbformat_minor": 5
}
