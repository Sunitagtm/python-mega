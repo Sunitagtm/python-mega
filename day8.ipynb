{
 "cells": [
  {
   "cell_type": "markdown",
   "id": "4041afad",
   "metadata": {},
   "source": [
    "# Lambda Function"
   ]
  },
  {
   "cell_type": "code",
   "execution_count": 1,
   "id": "7a04f061",
   "metadata": {},
   "outputs": [],
   "source": [
    "add = lambda x,y:x+y"
   ]
  },
  {
   "cell_type": "code",
   "execution_count": 2,
   "id": "25f567b0",
   "metadata": {},
   "outputs": [
    {
     "data": {
      "text/plain": [
       "8"
      ]
     },
     "execution_count": 2,
     "metadata": {},
     "output_type": "execute_result"
    }
   ],
   "source": [
    "add(3,5)"
   ]
  },
  {
   "cell_type": "markdown",
   "id": "a4150f2a",
   "metadata": {},
   "source": [
    "syntax:\n",
    "function_name=lambda arguments:expressions"
   ]
  },
  {
   "cell_type": "code",
   "execution_count": 4,
   "id": "37a2e880",
   "metadata": {},
   "outputs": [],
   "source": [
    "f_name = lambda first,middle,last:first+' '+middle+' '+last"
   ]
  },
  {
   "cell_type": "code",
   "execution_count": 6,
   "id": "f3b4ff35",
   "metadata": {},
   "outputs": [
    {
     "data": {
      "text/plain": [
       "'shiv shankar sha'"
      ]
     },
     "execution_count": 6,
     "metadata": {},
     "output_type": "execute_result"
    }
   ],
   "source": [
    "f_name('shiv','shankar','sha')"
   ]
  },
  {
   "cell_type": "markdown",
   "id": "79501113",
   "metadata": {},
   "source": [
    "display the sum of first natural numbers using lambda function"
   ]
  },
  {
   "cell_type": "code",
   "execution_count": 9,
   "id": "a3e1061b",
   "metadata": {},
   "outputs": [],
   "source": [
    "sum_n = lambda n:(n*(n+1))/2"
   ]
  },
  {
   "cell_type": "code",
   "execution_count": 10,
   "id": "ca6cfe78",
   "metadata": {},
   "outputs": [
    {
     "data": {
      "text/plain": [
       "55.0"
      ]
     },
     "execution_count": 10,
     "metadata": {},
     "output_type": "execute_result"
    }
   ],
   "source": [
    "sum_n(10)"
   ]
  },
  {
   "cell_type": "code",
   "execution_count": 11,
   "id": "f2fc29fb",
   "metadata": {},
   "outputs": [
    {
     "name": "stdout",
     "output_type": "stream",
     "text": [
      "Enter Number100\n"
     ]
    },
    {
     "data": {
      "text/plain": [
       "5050.0"
      ]
     },
     "execution_count": 11,
     "metadata": {},
     "output_type": "execute_result"
    }
   ],
   "source": [
    "n=int(input('Enter Number'))\n",
    "sum_n(n)"
   ]
  },
  {
   "cell_type": "code",
   "execution_count": null,
   "id": "eb8e31f3",
   "metadata": {},
   "outputs": [],
   "source": []
  }
 ],
 "metadata": {
  "kernelspec": {
   "display_name": "Python 3 (ipykernel)",
   "language": "python",
   "name": "python3"
  },
  "language_info": {
   "codemirror_mode": {
    "name": "ipython",
    "version": 3
   },
   "file_extension": ".py",
   "mimetype": "text/x-python",
   "name": "python",
   "nbconvert_exporter": "python",
   "pygments_lexer": "ipython3",
   "version": "3.11.1"
  }
 },
 "nbformat": 4,
 "nbformat_minor": 5
}
