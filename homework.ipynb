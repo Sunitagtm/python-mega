{
 "cells": [
  {
   "cell_type": "code",
   "execution_count": 1,
   "id": "7dfabeff",
   "metadata": {},
   "outputs": [
    {
     "name": "stdout",
     "output_type": "stream",
     "text": [
      "1\n",
      "2\n",
      "3\n",
      "4\n",
      "5\n",
      "6\n",
      "7\n",
      "8\n",
      "9\n",
      "10\n"
     ]
    }
   ],
   "source": [
    "i=1\n",
    "while i<=10:      #Qn1) 10 natural no using while loop\n",
    "    print(i)\n",
    "    i+=1"
   ]
  },
  {
   "cell_type": "code",
   "execution_count": 3,
   "id": "cf6fafdc",
   "metadata": {},
   "outputs": [
    {
     "name": "stdout",
     "output_type": "stream",
     "text": [
      "12 x 1 = 12\n",
      "12 x 2 = 24\n",
      "12 x 3 = 36\n",
      "12 x 4 = 48\n",
      "12 x 5 = 60\n",
      "12 x 6 = 72\n",
      "12 x 7 = 84\n",
      "12 x 8 = 96\n",
      "12 x 9 = 108\n",
      "12 x 10 = 120\n"
     ]
    }
   ],
   "source": [
    "num =12                    # Qn 3) multiplication table\n",
    "for i in range(1,11):\n",
    "    print(num,'x',i,'=',num*i)"
   ]
  },
  {
   "cell_type": "code",
   "execution_count": 4,
   "id": "207058a2",
   "metadata": {},
   "outputs": [
    {
     "name": "stdout",
     "output_type": "stream",
     "text": [
      "1\n",
      "3\n",
      "5\n",
      "7\n",
      "9\n",
      "11\n"
     ]
    }
   ],
   "source": [
    "a={1,3,5,7,9,11}\n",
    "for i in a:             #Qn 4)num display a list using loop\n",
    "    print(i)\n",
    "    y=list(a)"
   ]
  },
  {
   "cell_type": "code",
   "execution_count": 5,
   "id": "7cd538a5",
   "metadata": {},
   "outputs": [],
   "source": [
    "a.remove(11)   Qn 6) remove 11 in the list"
   ]
  },
  {
   "cell_type": "code",
   "execution_count": 6,
   "id": "6edb3e2a",
   "metadata": {},
   "outputs": [
    {
     "data": {
      "text/plain": [
       "{1, 3, 5, 7, 9}"
      ]
     },
     "execution_count": 6,
     "metadata": {},
     "output_type": "execute_result"
    }
   ],
   "source": [
    "a"
   ]
  },
  {
   "cell_type": "code",
   "execution_count": 7,
   "id": "f41c2231",
   "metadata": {},
   "outputs": [
    {
     "data": {
      "text/plain": [
       "5"
      ]
     },
     "execution_count": 7,
     "metadata": {},
     "output_type": "execute_result"
    }
   ],
   "source": [
    "len(a)         #Qn 5) count the total number"
   ]
  },
  {
   "cell_type": "code",
   "execution_count": 8,
   "id": "299801a5",
   "metadata": {},
   "outputs": [
    {
     "name": "stdout",
     "output_type": "stream",
     "text": [
      "-10\n",
      "-9\n",
      "-8\n",
      "-7\n",
      "-6\n",
      "-5\n",
      "-4\n",
      "-3\n",
      "-2\n"
     ]
    }
   ],
   "source": [
    "for i in range(-10,-1):    #Qn 7) display num from -10 to-1 using for loop\n",
    "    print(i)"
   ]
  },
  {
   "cell_type": "code",
   "execution_count": 9,
   "id": "11dbc1cb",
   "metadata": {},
   "outputs": [
    {
     "name": "stdout",
     "output_type": "stream",
     "text": [
      "1\n",
      "8\n",
      "27\n",
      "64\n",
      "125\n",
      "216\n",
      "343\n",
      "512\n",
      "729\n",
      "1000\n"
     ]
    }
   ],
   "source": [
    "for i in range(1,11):\n",
    "    print(i**3)               #Qn 14) calculae the cube of all no"
   ]
  },
  {
   "cell_type": "code",
   "execution_count": 11,
   "id": "60330892",
   "metadata": {},
   "outputs": [
    {
     "name": "stdout",
     "output_type": "stream",
     "text": [
      "enter a num:200\n",
      "the sum is 20100.0\n"
     ]
    }
   ],
   "source": [
    "n=int(input(\"enter a num:\"))\n",
    "sum=(n*(n+1))/2                #Qn 15) \n",
    "print(\"the sum is\",sum)"
   ]
  },
  {
   "cell_type": "code",
   "execution_count": 12,
   "id": "bf4dbec0",
   "metadata": {},
   "outputs": [
    {
     "name": "stdout",
     "output_type": "stream",
     "text": [
      "\n",
      "\n",
      "1   \n",
      "\n",
      "1   2   \n",
      "\n",
      "1   2   3   \n",
      "\n",
      "1   2   3   4   \n",
      "\n",
      "1   2   3   4   5   \n",
      "\n"
     ]
    }
   ],
   "source": [
    "for i in range(1,7):\n",
    "    for j in range(1,i):          #patten1\n",
    "        print(j,end='   ')\n",
    "    print('\\n')"
   ]
  },
  {
   "cell_type": "code",
   "execution_count": 14,
   "id": "2c2f94ca",
   "metadata": {},
   "outputs": [
    {
     "name": "stdout",
     "output_type": "stream",
     "text": [
      "\n",
      "\n",
      "*  \n",
      "\n",
      "*  *  \n",
      "\n",
      "*  *  *  \n",
      "\n",
      "*  *  *  *  \n",
      "\n",
      "*  *  *  *  *  \n",
      "\n"
     ]
    }
   ],
   "source": [
    "for i in range(1,7):         #patten 3\n",
    "    for j in range(1,i):\n",
    "        print('*',end='  ')\n",
    "    print('\\n')"
   ]
  },
  {
   "cell_type": "code",
   "execution_count": 22,
   "id": "10c7e05c",
   "metadata": {},
   "outputs": [
    {
     "name": "stdout",
     "output_type": "stream",
     "text": [
      "Enter a Number:50\n",
      "The sum is 1275\n"
     ]
    }
   ],
   "source": [
    "x=int(input('Enter a Number:'))      #Qn 2) calculate the sum of all no from 1\n",
    "sum=0\n",
    "for i in range(1,x+1):\n",
    "    sum+=i\n",
    "print('The sum is',sum)"
   ]
  },
  {
   "cell_type": "code",
   "execution_count": 4,
   "id": "40ce23ac",
   "metadata": {},
   "outputs": [
    {
     "name": "stdout",
     "output_type": "stream",
     "text": [
      "1   \n",
      "\n",
      "2   2   \n",
      "\n",
      "3   3   3   \n",
      "\n",
      "4   4   4   4   \n",
      "\n",
      "5   5   5   5   5   \n",
      "\n"
     ]
    }
   ],
   "source": [
    "for i in range(1,6):\n",
    "    for j in range(0,i):          #patten4\n",
    "        print(i,end='   ')\n",
    "    print('\\n')"
   ]
  },
  {
   "cell_type": "code",
   "execution_count": 7,
   "id": "86cecff9",
   "metadata": {},
   "outputs": [
    {
     "ename": "IndentationError",
     "evalue": "expected an indented block after 'for' statement on line 4 (1539453736.py, line 5)",
     "output_type": "error",
     "traceback": [
      "\u001b[1;36m  Cell \u001b[1;32mIn[7], line 5\u001b[1;36m\u001b[0m\n\u001b[1;33m    if j > i:\u001b[0m\n\u001b[1;37m    ^\u001b[0m\n\u001b[1;31mIndentationError\u001b[0m\u001b[1;31m:\u001b[0m expected an indented block after 'for' statement on line 4\n"
     ]
    }
   ],
   "source": [
    "row=6\n",
    "for i in range(1,rows):\n",
    "    num = 1\n",
    "    for j in range(rows, o, -1):        #patten7\n",
    "    if j > i: \n",
    "    print(\" \",end='  ')\n",
    "else:\n",
    "    print(num, end=' ')\n",
    "num += 1\n",
    " print(\"\")\n"
   ]
  },
  {
   "cell_type": "code",
   "execution_count": 1,
   "id": "7e413efe",
   "metadata": {},
   "outputs": [
    {
     "name": "stdout",
     "output_type": "stream",
     "text": [
      "Prime numbers between 1 and 50 are: \n",
      "2 3 5 7 11 13 17 19 23 29 31 37 41 43 47 "
     ]
    }
   ],
   "source": [
    "# Range Qn 9) print prime number....\n",
    "start=1\n",
    "end=50\n",
    "print(\"Prime numbers between\",start,\"and\",end,\"are: \")\n",
    "for num in range(start, end + 1):\n",
    "    # all prime numbers are greater than 1\n",
    "    # if number is less than or equal to 1, it is not prime\n",
    "    if num > 1:\n",
    "        for i in range(2, num):\n",
    "            # check for factors\n",
    "            if (num % i) == 0:\n",
    "                # not a prime number so break inner loop and\n",
    "                # look for next number\n",
    "                break\n",
    "        else:\n",
    "            print(num,end=' ')"
   ]
  },
  {
   "cell_type": "code",
   "execution_count": 12,
   "id": "8679c0df",
   "metadata": {},
   "outputs": [
    {
     "name": "stdout",
     "output_type": "stream",
     "text": [
      "enter a lower value:25\n",
      "enter a upper value:125\n"
     ]
    }
   ],
   "source": [
    "l_value = int(input(\"enter a lower value:\"))\n",
    "U_value = int(input(\"enter a upper value:\"))"
   ]
  },
  {
   "cell_type": "code",
   "execution_count": 14,
   "id": "66608685",
   "metadata": {},
   "outputs": [
    {
     "name": "stdout",
     "output_type": "stream",
     "text": [
      "29    31    37    41    43    47    53    59    61    67    71    73    79    83    89    97    101    103    107    109    113    "
     ]
    }
   ],
   "source": [
    "for i in range(l_value,U_value+1):\n",
    "    for j in range(2,i):\n",
    "        if i%j==0:\n",
    "            break\n",
    "    else:\n",
    "        print(i,end='    ')"
   ]
  },
  {
   "cell_type": "markdown",
   "id": "82528f8a",
   "metadata": {},
   "source": [
    "10. Display Fibonacci series up to 10 terms "
   ]
  },
  {
   "cell_type": "code",
   "execution_count": 16,
   "id": "bac43008",
   "metadata": {},
   "outputs": [
    {
     "name": "stdout",
     "output_type": "stream",
     "text": [
      "enter a number of terms:20\n"
     ]
    }
   ],
   "source": [
    "n=int(input('enter a number of terms:'))"
   ]
  },
  {
   "cell_type": "code",
   "execution_count": 17,
   "id": "56e82f1d",
   "metadata": {},
   "outputs": [
    {
     "name": "stdout",
     "output_type": "stream",
     "text": [
      "0 1 1 2 3 5 8 13 21 34 55 89 144 233 377 610 987 1597 2584 4181 "
     ]
    }
   ],
   "source": [
    "x,y = 0,1\n",
    "print(x,y,end=' ')\n",
    "for i in range(1,n-1):\n",
    "    nxt = x + y\n",
    "    print(nxt,end=' ')\n",
    "    x=y\n",
    "    y=nxt"
   ]
  },
  {
   "cell_type": "markdown",
   "id": "e648bf70",
   "metadata": {},
   "source": [
    "11. Find the factorial of a given number \n"
   ]
  },
  {
   "cell_type": "code",
   "execution_count": 19,
   "id": "288587cd",
   "metadata": {},
   "outputs": [
    {
     "name": "stdout",
     "output_type": "stream",
     "text": [
      "Enter a number8\n",
      "The factorial of 8 is 40320\n"
     ]
    }
   ],
   "source": [
    "num=int(input('Enter a number'))\n",
    "factorial=1\n",
    "if num < 0:\n",
    "    print(\"Factorial does not exist for negative numbers\")\n",
    "elif num == 0:\n",
    "    print(\"The factorial of 0 is 1\")\n",
    "else:\n",
    "    # run loop 5 times\n",
    "    for i in range(1, num + 1):\n",
    "        # multiply factorial by current number\n",
    "        factorial = factorial * i\n",
    "    print(\"The factorial of\", num, \"is\", factorial)\n"
   ]
  },
  {
   "cell_type": "markdown",
   "id": "4779066c",
   "metadata": {},
   "source": [
    "12. Reverse a given integer number "
   ]
  },
  {
   "cell_type": "code",
   "execution_count": 5,
   "id": "55c6a382",
   "metadata": {},
   "outputs": [
    {
     "name": "stdout",
     "output_type": "stream",
     "text": [
      "enter any number:12345\n",
      "rivers number =  54321\n"
     ]
    }
   ],
   "source": [
    "num = int(input(\"enter any number:\"))\n",
    "rev_num = 0\n",
    "while num>0:\n",
    "    rem = num%10\n",
    "    rev_num = rev_num*10+rem\n",
    "    num=num//10\n",
    "print('rivers number = ',rev_num)"
   ]
  },
  {
   "cell_type": "code",
   "execution_count": null,
   "id": "dda9f03a",
   "metadata": {},
   "outputs": [],
   "source": []
  }
 ],
 "metadata": {
  "kernelspec": {
   "display_name": "Python 3 (ipykernel)",
   "language": "python",
   "name": "python3"
  },
  "language_info": {
   "codemirror_mode": {
    "name": "ipython",
    "version": 3
   },
   "file_extension": ".py",
   "mimetype": "text/x-python",
   "name": "python",
   "nbconvert_exporter": "python",
   "pygments_lexer": "ipython3",
   "version": "3.11.1"
  }
 },
 "nbformat": 4,
 "nbformat_minor": 5
}
